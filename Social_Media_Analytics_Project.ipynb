{
  "nbformat": 4,
  "nbformat_minor": 0,
  "metadata": {
    "kernelspec": {
      "display_name": "Python 3",
      "language": "python",
      "name": "python3"
    },
    "language_info": {
      "codemirror_mode": {
        "name": "ipython",
        "version": 3
      },
      "file_extension": ".py",
      "mimetype": "text/x-python",
      "name": "python",
      "nbconvert_exporter": "python",
      "pygments_lexer": "ipython3",
      "version": "3.6.5"
    },
    "colab": {
      "name": "Social Media Analytics - Project.ipynb",
      "provenance": [],
      "collapsed_sections": [],
      "toc_visible": true
    },
    "accelerator": "GPU"
  },
  "cells": [
    {
      "cell_type": "markdown",
      "metadata": {
        "id": "zvLL3ejYJ_BG",
        "colab_type": "text"
      },
      "source": [
        "# Social Media Analytics - Project"
      ]
    },
    {
      "cell_type": "code",
      "metadata": {
        "id": "9wDvac5xJ_BK",
        "colab_type": "code",
        "outputId": "5b490a21-6ed2-4536-f3de-660ab736d995",
        "colab": {
          "base_uri": "https://localhost:8080/",
          "height": 360
        }
      },
      "source": [
        "#Packages to install\n",
        "!pip install emot\n",
        "!pip install stats\n",
        "!sudo apt-get install graphviz"
      ],
      "execution_count": 0,
      "outputs": [
        {
          "output_type": "stream",
          "text": [
            "Collecting emot\n",
            "  Downloading https://files.pythonhosted.org/packages/49/07/20001ade19873de611b7b66a4d5e5aabbf190d65abea337d5deeaa2bc3de/emot-2.1-py3-none-any.whl\n",
            "Installing collected packages: emot\n",
            "Successfully installed emot-2.1\n",
            "Collecting stats\n",
            "\u001b[?25l  Downloading https://files.pythonhosted.org/packages/87/43/f2d8d8e2660740ecca9c0fab85a07bc02da27d1fcc5071ee481082888720/stats-0.1.2a.tar.gz (127kB)\n",
            "\u001b[K     |████████████████████████████████| 133kB 6.0MB/s \n",
            "\u001b[?25hBuilding wheels for collected packages: stats\n",
            "  Building wheel for stats (setup.py) ... \u001b[?25l\u001b[?25hdone\n",
            "  Created wheel for stats: filename=stats-0.1.2a0-cp36-none-any.whl size=24279 sha256=ae06aa9f87118bd282047eeacc39e070a64c8a6a41961598a77c599ab2fecc64\n",
            "  Stored in directory: /root/.cache/pip/wheels/1f/64/c9/da1748f4ce76935afc665178ead2217b90147bac5ca096aa56\n",
            "Successfully built stats\n",
            "Installing collected packages: stats\n",
            "Successfully installed stats-0.1.2a0\n",
            "Reading package lists... Done\n",
            "Building dependency tree       \n",
            "Reading state information... Done\n",
            "graphviz is already the newest version (2.40.1-2).\n",
            "0 upgraded, 0 newly installed, 0 to remove and 32 not upgraded.\n"
          ],
          "name": "stdout"
        }
      ]
    },
    {
      "cell_type": "code",
      "metadata": {
        "id": "w0ninyXTJ_BX",
        "colab_type": "code",
        "outputId": "59cdba2c-1f3b-4a5e-ad2c-b55c1de6a042",
        "colab": {
          "base_uri": "https://localhost:8080/",
          "height": 51
        }
      },
      "source": [
        "%matplotlib inline\n",
        "from operator import itemgetter\n",
        "import nltk\n",
        "nltk.download('stopwords')\n",
        "from nltk.corpus import stopwords\n",
        "stop_words = stopwords.words('english')\n",
        "import math\n",
        "import tweepy\n",
        "import ast\n",
        "import pandas as pd\n",
        "import numpy as np\n",
        "import seaborn as sns\n",
        "import matplotlib.pyplot as plt\n",
        "import matplotlib.colors as colors\n",
        "import matplotlib.cm as cmx\n",
        "from collections import Counter\n",
        "import json\n",
        "import numbers\n",
        "import re\n",
        "import os.path\n",
        "import datetime\n",
        "from tweepy import OAuthHandler, Stream, StreamListener\n",
        "from emot.emo_unicode import UNICODE_EMO, EMOTICONS\n",
        "import networkx as nx\n",
        "from networkx.drawing.nx_agraph import graphviz_layout\n",
        "import stats\n",
        "\n",
        "pd.options.display.max_colwidth = 400\n",
        "pd.options.display.max_rows = 25\n",
        "pd.options.display.max_columns = None"
      ],
      "execution_count": 0,
      "outputs": [
        {
          "output_type": "stream",
          "text": [
            "[nltk_data] Downloading package stopwords to /root/nltk_data...\n",
            "[nltk_data]   Package stopwords is already up-to-date!\n"
          ],
          "name": "stdout"
        }
      ]
    },
    {
      "cell_type": "code",
      "metadata": {
        "id": "FDWnOxU0J_Bh",
        "colab_type": "code",
        "outputId": "04a18745-e29c-4bb4-83f6-4f6833c9da26",
        "colab": {
          "base_uri": "https://localhost:8080/",
          "height": 406
        }
      },
      "source": [
        "#Load database\n",
        "db = pd.read_csv(\"/content/QAnonRidotto.csv\")\n",
        "db.drop(\"Unnamed: 0\",axis=1,inplace=True)\n",
        "db.head(1)"
      ],
      "execution_count": 0,
      "outputs": [
        {
          "output_type": "execute_result",
          "data": {
            "text/html": [
              "<div>\n",
              "<style scoped>\n",
              "    .dataframe tbody tr th:only-of-type {\n",
              "        vertical-align: middle;\n",
              "    }\n",
              "\n",
              "    .dataframe tbody tr th {\n",
              "        vertical-align: top;\n",
              "    }\n",
              "\n",
              "    .dataframe thead th {\n",
              "        text-align: right;\n",
              "    }\n",
              "</style>\n",
              "<table border=\"1\" class=\"dataframe\">\n",
              "  <thead>\n",
              "    <tr style=\"text-align: right;\">\n",
              "      <th></th>\n",
              "      <th>id</th>\n",
              "      <th>User</th>\n",
              "      <th>original_text</th>\n",
              "      <th>hashtags</th>\n",
              "      <th>mentions</th>\n",
              "      <th>Follower</th>\n",
              "      <th>Following</th>\n",
              "      <th>retweeted_user</th>\n",
              "      <th>quoted_user</th>\n",
              "      <th>replied_user</th>\n",
              "      <th>text</th>\n",
              "    </tr>\n",
              "  </thead>\n",
              "  <tbody>\n",
              "    <tr>\n",
              "      <th>0</th>\n",
              "      <td>1268545440913424385</td>\n",
              "      <td>Amynicole1005</td>\n",
              "      <td>RT @M2Madness: The MSM wants you to forget about them saying this before the riots started...\\n\\nEnemy of the People... #QAnon H/t Anon https…</td>\n",
              "      <td>['QAnon']</td>\n",
              "      <td>['M2Madness']</td>\n",
              "      <td>616</td>\n",
              "      <td>872</td>\n",
              "      <td>M2Madness</td>\n",
              "      <td>NaN</td>\n",
              "      <td>NaN</td>\n",
              "      <td>the msm wants you to forget about them saying this before the riots started enemy of the people qanon h t anon</td>\n",
              "    </tr>\n",
              "  </tbody>\n",
              "</table>\n",
              "</div>"
            ],
            "text/plain": [
              "                    id           User  \\\n",
              "0  1268545440913424385  Amynicole1005   \n",
              "\n",
              "                                                                                                                                    original_text  \\\n",
              "0  RT @M2Madness: The MSM wants you to forget about them saying this before the riots started...\\n\\nEnemy of the People... #QAnon H/t Anon https…   \n",
              "\n",
              "    hashtags       mentions  Follower  Following retweeted_user quoted_user  \\\n",
              "0  ['QAnon']  ['M2Madness']       616        872      M2Madness         NaN   \n",
              "\n",
              "  replied_user  \\\n",
              "0          NaN   \n",
              "\n",
              "                                                                                                             text  \n",
              "0  the msm wants you to forget about them saying this before the riots started enemy of the people qanon h t anon  "
            ]
          },
          "metadata": {
            "tags": []
          },
          "execution_count": 5
        }
      ]
    },
    {
      "cell_type": "markdown",
      "metadata": {
        "id": "Ne_DucQoJ_Bq",
        "colab_type": "text"
      },
      "source": [
        "## Tweets collection\n",
        "[_](https://github.com/lorenzofamiglini/Social-Media-Analytics/blob/master/Progetto_Social_Media_tweepy_stream.ipynb)\n",
        "\n",
        "[TweetObject doc.](https://developer.twitter.com/en/docs/tweets/data-dictionary/overview/tweet-object)\n",
        "\n",
        "Tweets have been collected in the 24 hours after George Floyd's funeral, indirectly acting as a catalyst event."
      ]
    },
    {
      "cell_type": "code",
      "metadata": {
        "scrolled": true,
        "id": "H82mbYs-J_Bs",
        "colab_type": "code",
        "colab": {}
      },
      "source": [
        "#Authentication (https://developer.twitter.com/en/apps/16155617)\n",
        "secret = pd.read_csv(\"/Users/riccardocervero/Desktop/DataScience/Materie/Social Media Analytics/secret.csv\",header=None)\n",
        "consumer_key = secret.loc[0][1]\n",
        "consumer_key_secret = secret.loc[1][1]\n",
        "access_token = secret.loc[2][1]\n",
        "access_token_secret = secret.loc[3][1]\n",
        "auth = tweepy.OAuthHandler(consumer_key, consumer_key_secret)\n",
        "auth.set_access_token(access_token, access_token_secret)\n",
        "api = tweepy.API(auth)"
      ],
      "execution_count": 0,
      "outputs": []
    },
    {
      "cell_type": "code",
      "metadata": {
        "id": "zBisbAZfJ_Bz",
        "colab_type": "code",
        "colab": {}
      },
      "source": [
        "num_max = 50000\n",
        "file = \"/Users/riccardocervero/Desktop/DataScience/Materie/Social Media Analytics/QAnonTweet.txt\"\n",
        "\n",
        "class StdOutListener(StreamListener):\n",
        "    ''' Handles data received from the stream. '''\n",
        "    \n",
        "    def __init__(self, api=None):\n",
        "        super(StdOutListener, self).__init__()\n",
        "        self.count = 37797\n",
        "        self.file = open(file, \"a\")\n",
        " \n",
        "    def on_status(self, status):\n",
        "        tweet = json.dumps(status._json)\n",
        "        self.file.write(tweet + '\\n')\n",
        "        self.count += 1\n",
        "        if self.count <= num_max:\n",
        "            print(f'{self.count}\\r', end=\"\")\n",
        "            return True\n",
        "        else:\n",
        "            return False\n",
        "            self.file.close()\n",
        " \n",
        "    def on_error(self, status_code):\n",
        "        print(status_code)\n",
        "        attempts = 0\n",
        "        if status_code in [420, 500, 502, 503, 504]:\n",
        "            attempts = attempts + 1\n",
        "            time.sleep(450)\n",
        "            print(\"Timeout in seconds: \", attempts * 1800)\n",
        "            return False\n",
        "        \n",
        "        \n",
        "text_query = [\"WWG1WGA\", \"QAnon\", \"qanon\", \"qAnon\",\"WhereWeGoOneWeGoAll\",\"wherewegoonewegoall\",\n",
        "             \"WWG1WGA_WORLDWIDE\",\"WWG1WGAWORLDWIDE\",\"GreatAwakening\",\"GreatAwakeningWorldwide\",\n",
        "              \"TheGreatAwakeningWorldwide\",\"QArmy\",\"QAnonusa\", \"qanonusa\", \"qAnonusa\",\"QAnonUSA\", \"qanonUSA\", \"qAnonUSA\",\n",
        "              \"QAnonUsa\", \"qanonUsa\", \"qAnonUsa\",\"QSees\",\"Qknows\",\"QKNOWS\",\"QSEES\",\"QanonEurope\",\n",
        "              \"QAnonEurope\",\"qanoneurope\"]\n",
        "hashtag_query = [\"#\" + s for s in text_query]\n",
        "search_query = list(set(text_query) | set(hashtag_query))\n",
        "stream = tweepy.Stream(auth=api.auth, listener=StdOutListener(), tweet_mode='extended')"
      ],
      "execution_count": 0,
      "outputs": []
    },
    {
      "cell_type": "code",
      "metadata": {
        "id": "pfijtaXjJ_B7",
        "colab_type": "code",
        "colab": {}
      },
      "source": [
        "while True:\n",
        "    try:\n",
        "        stream.filter(track=[i for i in search_query],languages=[\"en\"])\n",
        "    except BaseException:\n",
        "        print(\"An exception occured!\")\n",
        "        continue"
      ],
      "execution_count": 0,
      "outputs": []
    },
    {
      "cell_type": "code",
      "metadata": {
        "id": "DkQM-B1NJ_CA",
        "colab_type": "code",
        "colab": {}
      },
      "source": [
        "l = []\n",
        "def tweet_to_dataframe(file):\n",
        "    with open(file, \"r\") as tweets_file:\n",
        "        for line in tweets_file:\n",
        "            t = json.loads(line)\n",
        "            l.append(t)\n",
        "    return pd.DataFrame(l)\n",
        "\n",
        "db = tweet_to_dataframe(file)"
      ],
      "execution_count": 0,
      "outputs": []
    },
    {
      "cell_type": "code",
      "metadata": {
        "scrolled": true,
        "id": "-y4SpVHaJ_CF",
        "colab_type": "code",
        "outputId": "a5490740-9652-4d47-8483-0e30415a717f",
        "colab": {}
      },
      "source": [
        "db.tail(1)"
      ],
      "execution_count": 0,
      "outputs": [
        {
          "output_type": "execute_result",
          "data": {
            "text/html": [
              "<div>\n",
              "<style scoped>\n",
              "    .dataframe tbody tr th:only-of-type {\n",
              "        vertical-align: middle;\n",
              "    }\n",
              "\n",
              "    .dataframe tbody tr th {\n",
              "        vertical-align: top;\n",
              "    }\n",
              "\n",
              "    .dataframe thead th {\n",
              "        text-align: right;\n",
              "    }\n",
              "</style>\n",
              "<table border=\"1\" class=\"dataframe\">\n",
              "  <thead>\n",
              "    <tr style=\"text-align: right;\">\n",
              "      <th></th>\n",
              "      <th>contributors</th>\n",
              "      <th>coordinates</th>\n",
              "      <th>created_at</th>\n",
              "      <th>display_text_range</th>\n",
              "      <th>entities</th>\n",
              "      <th>extended_entities</th>\n",
              "      <th>extended_tweet</th>\n",
              "      <th>favorite_count</th>\n",
              "      <th>favorited</th>\n",
              "      <th>filter_level</th>\n",
              "      <th>geo</th>\n",
              "      <th>id</th>\n",
              "      <th>id_str</th>\n",
              "      <th>in_reply_to_screen_name</th>\n",
              "      <th>in_reply_to_status_id</th>\n",
              "      <th>in_reply_to_status_id_str</th>\n",
              "      <th>in_reply_to_user_id</th>\n",
              "      <th>in_reply_to_user_id_str</th>\n",
              "      <th>is_quote_status</th>\n",
              "      <th>lang</th>\n",
              "      <th>place</th>\n",
              "      <th>possibly_sensitive</th>\n",
              "      <th>quote_count</th>\n",
              "      <th>quoted_status</th>\n",
              "      <th>quoted_status_id</th>\n",
              "      <th>quoted_status_id_str</th>\n",
              "      <th>quoted_status_permalink</th>\n",
              "      <th>reply_count</th>\n",
              "      <th>retweet_count</th>\n",
              "      <th>retweeted</th>\n",
              "      <th>retweeted_status</th>\n",
              "      <th>source</th>\n",
              "      <th>text</th>\n",
              "      <th>timestamp_ms</th>\n",
              "      <th>truncated</th>\n",
              "      <th>user</th>\n",
              "      <th>withheld_in_countries</th>\n",
              "    </tr>\n",
              "  </thead>\n",
              "  <tbody>\n",
              "    <tr>\n",
              "      <th>50006</th>\n",
              "      <td>None</td>\n",
              "      <td>None</td>\n",
              "      <td>Thu Jun 04 22:58:55 +0000 2020</td>\n",
              "      <td>NaN</td>\n",
              "      <td>{'hashtags': [{'text': 'wwg1wga', 'indices': [52, 60]}, {'text': 'qanon', 'indices': [61, 67]}, {'text': 'TheGreatAwakening', 'indices': [92, 110]}], 'urls': [], 'user_mentions': [{'screen_name': 'MySherrie6', 'name': 'Loverly', 'id': 2513907421, 'id_str': '2513907421', 'indices': [3, 14]}, {'screen_name': 'intheMatrixxx', 'name': ']intheMatrixxx[', 'id': 940430173517811714, 'id_str': '9404301...</td>\n",
              "      <td>{'media': [{'id': 1268606565302571009, 'id_str': '1268606565302571009', 'indices': [111, 134], 'media_url': 'http://pbs.twimg.com/media/EZr-8ySWkAEQcAJ.png', 'media_url_https': 'https://pbs.twimg.com/media/EZr-8ySWkAEQcAJ.png', 'url': 'https://t.co/z9WBsA6j5t', 'display_url': 'pic.twitter.com/z9WBsA6j5t', 'expanded_url': 'https://twitter.com/MySherrie6/status/1268606590082592777/photo/1', 'typ...</td>\n",
              "      <td>NaN</td>\n",
              "      <td>0</td>\n",
              "      <td>False</td>\n",
              "      <td>low</td>\n",
              "      <td>None</td>\n",
              "      <td>1268678650846744576</td>\n",
              "      <td>1268678650846744576</td>\n",
              "      <td>None</td>\n",
              "      <td>NaN</td>\n",
              "      <td>None</td>\n",
              "      <td>NaN</td>\n",
              "      <td>None</td>\n",
              "      <td>False</td>\n",
              "      <td>en</td>\n",
              "      <td>None</td>\n",
              "      <td>False</td>\n",
              "      <td>0</td>\n",
              "      <td>NaN</td>\n",
              "      <td>NaN</td>\n",
              "      <td>NaN</td>\n",
              "      <td>NaN</td>\n",
              "      <td>0</td>\n",
              "      <td>0</td>\n",
              "      <td>False</td>\n",
              "      <td>{'created_at': 'Thu Jun 04 18:12:35 +0000 2020', 'id': 1268606590082592777, 'id_str': '1268606590082592777', 'text': '@intheMatrixxx @thehill Q sent me!  #wwg1wga #qanon   Follow me as we track #TheGreatAwakening https://t.co/z9WBsA6j5t', 'display_text_range': [24, 94], 'source': '&lt;a href=\"https://mobile.twitter.com\" rel=\"nofollow\"&gt;Twitter Web App&lt;/a&gt;', 'truncated': False, 'in_reply_to_status_...</td>\n",
              "      <td>&lt;a href=\"http://twitter.com/download/android\" rel=\"nofollow\"&gt;Twitter for Android&lt;/a&gt;</td>\n",
              "      <td>RT @MySherrie6: @intheMatrixxx @thehill Q sent me!  #wwg1wga #qanon   Follow me as we track #TheGreatAwakening https://t.co/z9WBsA6j5t</td>\n",
              "      <td>1591311535928</td>\n",
              "      <td>False</td>\n",
              "      <td>{'id': 874755404, 'id_str': '874755404', 'name': 'Simba', 'screen_name': 'joymarva', 'location': 'Grand Rapids, MI', 'url': None, 'description': 'I Love God, my Family and my Country!🇺🇲\n",
              "\n",
              "I support President Donald J Trump and trust Q', 'translator_type': 'none', 'protected': False, 'verified': False, 'followers_count': 165, 'friends_count': 247, 'listed_count': 0, 'favourites_count': 21359, 's...</td>\n",
              "      <td>NaN</td>\n",
              "    </tr>\n",
              "  </tbody>\n",
              "</table>\n",
              "</div>"
            ],
            "text/plain": [
              "      contributors coordinates                      created_at  \\\n",
              "50006         None        None  Thu Jun 04 22:58:55 +0000 2020   \n",
              "\n",
              "      display_text_range  \\\n",
              "50006                NaN   \n",
              "\n",
              "                                                                                                                                                                                                                                                                                                                                                                                                              entities  \\\n",
              "50006  {'hashtags': [{'text': 'wwg1wga', 'indices': [52, 60]}, {'text': 'qanon', 'indices': [61, 67]}, {'text': 'TheGreatAwakening', 'indices': [92, 110]}], 'urls': [], 'user_mentions': [{'screen_name': 'MySherrie6', 'name': 'Loverly', 'id': 2513907421, 'id_str': '2513907421', 'indices': [3, 14]}, {'screen_name': 'intheMatrixxx', 'name': ']intheMatrixxx[', 'id': 940430173517811714, 'id_str': '9404301...   \n",
              "\n",
              "                                                                                                                                                                                                                                                                                                                                                                                                     extended_entities  \\\n",
              "50006  {'media': [{'id': 1268606565302571009, 'id_str': '1268606565302571009', 'indices': [111, 134], 'media_url': 'http://pbs.twimg.com/media/EZr-8ySWkAEQcAJ.png', 'media_url_https': 'https://pbs.twimg.com/media/EZr-8ySWkAEQcAJ.png', 'url': 'https://t.co/z9WBsA6j5t', 'display_url': 'pic.twitter.com/z9WBsA6j5t', 'expanded_url': 'https://twitter.com/MySherrie6/status/1268606590082592777/photo/1', 'typ...   \n",
              "\n",
              "      extended_tweet  favorite_count  favorited filter_level   geo  \\\n",
              "50006            NaN               0      False          low  None   \n",
              "\n",
              "                        id               id_str in_reply_to_screen_name  \\\n",
              "50006  1268678650846744576  1268678650846744576                    None   \n",
              "\n",
              "       in_reply_to_status_id in_reply_to_status_id_str  in_reply_to_user_id  \\\n",
              "50006                    NaN                      None                  NaN   \n",
              "\n",
              "      in_reply_to_user_id_str  is_quote_status lang place possibly_sensitive  \\\n",
              "50006                    None            False   en  None              False   \n",
              "\n",
              "       quote_count quoted_status  quoted_status_id quoted_status_id_str  \\\n",
              "50006            0           NaN               NaN                  NaN   \n",
              "\n",
              "      quoted_status_permalink  reply_count  retweet_count  retweeted  \\\n",
              "50006                     NaN            0              0      False   \n",
              "\n",
              "                                                                                                                                                                                                                                                                                                                                                                                                      retweeted_status  \\\n",
              "50006  {'created_at': 'Thu Jun 04 18:12:35 +0000 2020', 'id': 1268606590082592777, 'id_str': '1268606590082592777', 'text': '@intheMatrixxx @thehill Q sent me!  #wwg1wga #qanon   Follow me as we track #TheGreatAwakening https://t.co/z9WBsA6j5t', 'display_text_range': [24, 94], 'source': '<a href=\"https://mobile.twitter.com\" rel=\"nofollow\">Twitter Web App</a>', 'truncated': False, 'in_reply_to_status_...   \n",
              "\n",
              "                                                                                     source  \\\n",
              "50006  <a href=\"http://twitter.com/download/android\" rel=\"nofollow\">Twitter for Android</a>   \n",
              "\n",
              "                                                                                                                                         text  \\\n",
              "50006  RT @MySherrie6: @intheMatrixxx @thehill Q sent me!  #wwg1wga #qanon   Follow me as we track #TheGreatAwakening https://t.co/z9WBsA6j5t   \n",
              "\n",
              "        timestamp_ms  truncated  \\\n",
              "50006  1591311535928      False   \n",
              "\n",
              "                                                                                                                                                                                                                                                                                                                                                                                                                  user  \\\n",
              "50006  {'id': 874755404, 'id_str': '874755404', 'name': 'Simba', 'screen_name': 'joymarva', 'location': 'Grand Rapids, MI', 'url': None, 'description': 'I Love God, my Family and my Country!🇺🇲\n",
              "\n",
              "I support President Donald J Trump and trust Q', 'translator_type': 'none', 'protected': False, 'verified': False, 'followers_count': 165, 'friends_count': 247, 'listed_count': 0, 'favourites_count': 21359, 's...   \n",
              "\n",
              "      withheld_in_countries  \n",
              "50006                   NaN  "
            ]
          },
          "metadata": {
            "tags": []
          },
          "execution_count": 9
        }
      ]
    },
    {
      "cell_type": "code",
      "metadata": {
        "id": "Tjw-Kdo1J_CJ",
        "colab_type": "code",
        "colab": {}
      },
      "source": [
        "#Export\n",
        "db.to_csv(\"/Users/riccardocervero/Desktop/QAnonTweet.csv\")"
      ],
      "execution_count": 0,
      "outputs": []
    },
    {
      "cell_type": "code",
      "metadata": {
        "id": "cn8pXoNkJ_CM",
        "colab_type": "code",
        "colab": {}
      },
      "source": [
        "#Load tweet db\n",
        "db = pd.read_csv(\"/Users/riccardocervero/Desktop/QAnonTweet.csv\")\n",
        "db.drop(\"Unnamed: 0\",axis=1,inplace=True)"
      ],
      "execution_count": 0,
      "outputs": []
    },
    {
      "cell_type": "markdown",
      "metadata": {
        "id": "2CEuYwnFJ_CQ",
        "colab_type": "text"
      },
      "source": [
        "## Pre-processing"
      ]
    },
    {
      "cell_type": "code",
      "metadata": {
        "id": "bNJU6DuxJ_CQ",
        "colab_type": "code",
        "outputId": "fd7fa7d3-7026-484e-8ee4-47612ce18243",
        "colab": {}
      },
      "source": [
        "print(\"Observation: \",len(db))\n",
        "print(\"Number of columns: \",len(db.columns))"
      ],
      "execution_count": 0,
      "outputs": [
        {
          "output_type": "stream",
          "text": [
            "Observation:  50007\n",
            "Number of columns:  37\n"
          ],
          "name": "stdout"
        }
      ]
    },
    {
      "cell_type": "code",
      "metadata": {
        "scrolled": true,
        "id": "XT4KdKaPJ_CV",
        "colab_type": "code",
        "outputId": "3d0b73d1-bd4a-4e0b-cda3-afb0fbaa13af",
        "colab": {}
      },
      "source": [
        "#Check if there are costant columns \n",
        "def costant(db):\n",
        "    c = []\n",
        "    for col in db.columns:\n",
        "        if len(db[col].unique())==1:\n",
        "            print(col,\":\",db[col].unique())\n",
        "            c.append(col)\n",
        "    return c\n",
        "\n",
        "to_remove = costant(db)"
      ],
      "execution_count": 0,
      "outputs": [
        {
          "output_type": "stream",
          "text": [
            "contributors : [nan]\n",
            "favorite_count : [0]\n",
            "favorited : [False]\n",
            "filter_level : ['low']\n",
            "lang : ['en']\n",
            "quote_count : [0]\n",
            "reply_count : [0]\n",
            "retweet_count : [0]\n",
            "retweeted : [False]\n"
          ],
          "name": "stdout"
        }
      ]
    },
    {
      "cell_type": "code",
      "metadata": {
        "id": "GLiRZKalJ_Cb",
        "colab_type": "code",
        "outputId": "2604ef23-e904-47f5-cbdd-13c70d7f4d3a",
        "colab": {}
      },
      "source": [
        "db.drop([k for k in to_remove],axis=1,inplace=True)\n",
        "len(db.columns)"
      ],
      "execution_count": 0,
      "outputs": [
        {
          "output_type": "execute_result",
          "data": {
            "text/plain": [
              "28"
            ]
          },
          "metadata": {
            "tags": []
          },
          "execution_count": 25
        }
      ]
    },
    {
      "cell_type": "code",
      "metadata": {
        "id": "OpVC3Di7J_Cf",
        "colab_type": "code",
        "outputId": "5ca1ba73-f94d-46b8-f971-f3971cddbebd",
        "colab": {}
      },
      "source": [
        "#Check \"coordinates\" values\n",
        "print([e for e in db.coordinates.unique()])\n",
        "print(len(db[db.coordinates==\"{'type': 'Point', 'coordinates': [-74.0064, 40.7142]}\"]))\n",
        "print(len(db[db.coordinates==\"{'type': 'Point', 'coordinates': [-111.4926835, 33.1030516]}\"]))"
      ],
      "execution_count": 0,
      "outputs": [
        {
          "output_type": "stream",
          "text": [
            "[nan, \"{'type': 'Point', 'coordinates': [-74.0064, 40.7142]}\", \"{'type': 'Point', 'coordinates': [-111.4926835, 33.1030516]}\"]\n",
            "1\n",
            "1\n"
          ],
          "name": "stdout"
        }
      ]
    },
    {
      "cell_type": "code",
      "metadata": {
        "id": "ycgv1I8gJ_Ci",
        "colab_type": "code",
        "outputId": "4d329441-38a4-4816-b605-8c5ac9e4a2c5",
        "colab": {}
      },
      "source": [
        "db.drop(\"coordinates\",axis=1,inplace=True)\n",
        "db.drop(\"geo\",axis=1,inplace=True)\n",
        "len(db.columns)"
      ],
      "execution_count": 0,
      "outputs": [
        {
          "output_type": "execute_result",
          "data": {
            "text/plain": [
              "26"
            ]
          },
          "metadata": {
            "tags": []
          },
          "execution_count": 43
        }
      ]
    },
    {
      "cell_type": "code",
      "metadata": {
        "scrolled": true,
        "id": "iCfv1ZnvJ_Cl",
        "colab_type": "code",
        "outputId": "74638998-fc5e-49f5-eaa3-290fe4859e37",
        "colab": {}
      },
      "source": [
        "#Check \"withheld_in_countries\"\n",
        "print([e for e in db.withheld_in_countries.unique()])\n",
        "print(len(db[db.withheld_in_countries==\"['DE']\"])/len(db))"
      ],
      "execution_count": 0,
      "outputs": [
        {
          "output_type": "stream",
          "text": [
            "[nan, \"['DE']\"]\n",
            "0.0009198712180294758\n"
          ],
          "name": "stdout"
        }
      ]
    },
    {
      "cell_type": "code",
      "metadata": {
        "id": "K1-TJRjYJ_Cp",
        "colab_type": "code",
        "outputId": "93098c76-44b2-4915-ebc2-6b7b30072dbf",
        "colab": {}
      },
      "source": [
        "db.drop(\"withheld_in_countries\",axis=1,inplace=True)\n",
        "len(db.columns)"
      ],
      "execution_count": 0,
      "outputs": [
        {
          "output_type": "execute_result",
          "data": {
            "text/plain": [
              "25"
            ]
          },
          "metadata": {
            "tags": []
          },
          "execution_count": 72
        }
      ]
    },
    {
      "cell_type": "code",
      "metadata": {
        "scrolled": true,
        "id": "9qAoclk2J_Cs",
        "colab_type": "code",
        "outputId": "79fd8a65-7e0f-4e2e-973b-90ce339f60e3",
        "colab": {}
      },
      "source": [
        "#Check \"possibly_sensitive\"\n",
        "print([e for e in db.possibly_sensitive.unique()])\n",
        "print(len(db[db.possibly_sensitive.isna()])/len(db))\n",
        "print(len(db[db.possibly_sensitive==False])/len(db))\n",
        "print(len(db[db.possibly_sensitive==True])/len(db))"
      ],
      "execution_count": 0,
      "outputs": [
        {
          "output_type": "stream",
          "text": [
            "[nan, False, True]\n",
            "0.6641270222168897\n",
            "0.3269342292079109\n",
            "0.008938748575199471\n"
          ],
          "name": "stdout"
        }
      ]
    },
    {
      "cell_type": "code",
      "metadata": {
        "scrolled": false,
        "id": "ku0-HzPdJ_Cv",
        "colab_type": "code",
        "outputId": "daf4c2fd-d49c-4f21-aa8c-41312972bc8c",
        "colab": {}
      },
      "source": [
        "db.drop(\"possibly_sensitive\",axis=1,inplace=True)\n",
        "len(db.columns)"
      ],
      "execution_count": 0,
      "outputs": [
        {
          "output_type": "execute_result",
          "data": {
            "text/plain": [
              "24"
            ]
          },
          "metadata": {
            "tags": []
          },
          "execution_count": 78
        }
      ]
    },
    {
      "cell_type": "code",
      "metadata": {
        "scrolled": true,
        "id": "cXrbkBS_J_Cx",
        "colab_type": "code",
        "outputId": "58de015a-13e0-49c1-a5d3-97800d81c547",
        "colab": {}
      },
      "source": [
        "#Remove othe useless variable\n",
        "to_remove = [\"quoted_status_permalink\",\"timestamp_ms\",\"display_text_range\",\"id_str\",\n",
        "           \"in_reply_to_status_id_str\",\"in_reply_to_user_id_str\",\"quoted_status_id_str\",\n",
        "          \"in_reply_to_user_id\",\"extended_entities\",\"source\"\n",
        "            \"created_at\" #We don't have most of time zone values\n",
        "            ]\n",
        "\n",
        "db.drop([k for k in to_remove],axis=1,inplace=True)\n",
        "len(db.columns)"
      ],
      "execution_count": 0,
      "outputs": [
        {
          "output_type": "execute_result",
          "data": {
            "text/plain": [
              "13"
            ]
          },
          "metadata": {
            "tags": []
          },
          "execution_count": 107
        }
      ]
    },
    {
      "cell_type": "code",
      "metadata": {
        "scrolled": true,
        "id": "gH_69nnaJ_C0",
        "colab_type": "code",
        "outputId": "33f477c2-7ebc-46be-e571-438e7f11d395",
        "colab": {}
      },
      "source": [
        "#Check \"place\"\n",
        "print(len(db.place.unique()))\n",
        "print(\"% not null place values:\",len(db[pd.notna(db.place)])/len(db))"
      ],
      "execution_count": 0,
      "outputs": [
        {
          "output_type": "stream",
          "text": [
            "75\n",
            "% not null place values: 0.002679624852520647\n"
          ],
          "name": "stdout"
        }
      ]
    },
    {
      "cell_type": "code",
      "metadata": {
        "id": "Rup8c_1mJ_C4",
        "colab_type": "code",
        "outputId": "b7fffcb6-aff7-42ef-ff20-1702d619b6a5",
        "colab": {}
      },
      "source": [
        "db.drop(\"place\",axis=1,inplace=True)\n",
        "len(db.columns)"
      ],
      "execution_count": 0,
      "outputs": [
        {
          "output_type": "stream",
          "text": [
            "12\n"
          ],
          "name": "stdout"
        }
      ]
    },
    {
      "cell_type": "code",
      "metadata": {
        "scrolled": false,
        "id": "ShnomVkUJ_C8",
        "colab_type": "code",
        "outputId": "e81c85ec-4f24-494c-f5fe-b951dd77a2fc",
        "colab": {}
      },
      "source": [
        "#Check % of \"quoted\" and retweet\n",
        "print(\"% Quoted Tweet:\",len(db[db.is_quote_status==True])/len(db))\n",
        "print(\"% Retweeted Tweet:\",1-len(db[db.retweeted_status.isna()])/len(db))\n",
        "print(\"Number of tweet both quoted and retweet:\",len(db[(db.is_quote_status==True) & (pd.notna(db.retweeted_status))]))\n",
        "print(\"% Replies to Tweet:\",len(db[pd.notna(db.in_reply_to_status_id)])/len(db))"
      ],
      "execution_count": 0,
      "outputs": [
        {
          "output_type": "stream",
          "text": [
            "% Quoted Tweet: 0.25558421820945065\n",
            "% Retweeted Tweet: 0.7617733517307577\n",
            "Number of tweet both quoted and retweet: 8804\n",
            "% Replies to Tweet: 0.08442818005479233\n"
          ],
          "name": "stdout"
        }
      ]
    },
    {
      "cell_type": "code",
      "metadata": {
        "scrolled": true,
        "id": "CuchvvGkJ_DA",
        "colab_type": "code",
        "colab": {}
      },
      "source": [
        "db.drop(\"is_quote_status\",axis=1,inplace=True)"
      ],
      "execution_count": 0,
      "outputs": []
    },
    {
      "cell_type": "markdown",
      "metadata": {
        "id": "nPwxd_1IJ_DD",
        "colab_type": "text"
      },
      "source": [
        "### Full Text "
      ]
    },
    {
      "cell_type": "code",
      "metadata": {
        "scrolled": true,
        "id": "R3eQ_Rm4J_DE",
        "colab_type": "code",
        "outputId": "de010b21-eb00-4077-db0c-145220ef6889",
        "colab": {}
      },
      "source": [
        "#Substitute \"extend_tweet\" with \"text\"\n",
        "print(len(db[db.truncated==True]))\n",
        "print(len(db[pd.notna(db.extended_tweet)]))\n",
        "db.drop(\"truncated\",axis=1,inplace=True)"
      ],
      "execution_count": 0,
      "outputs": [
        {
          "output_type": "stream",
          "text": [
            "6370\n",
            "6370\n"
          ],
          "name": "stdout"
        }
      ]
    },
    {
      "cell_type": "code",
      "metadata": {
        "id": "lJj8ty-RJ_DH",
        "colab_type": "code",
        "outputId": "d88b4a76-d01a-40a8-d927-1e5dc20b3dea",
        "colab": {}
      },
      "source": [
        "def full_text(x):\n",
        "    x = ast.literal_eval(x)\n",
        "    return(x[\"full_text\"])\n",
        "\n",
        "print(db.loc[2]['text'],\"\\n\")\n",
        "print(full_text(db.loc[2]['extended_tweet']))"
      ],
      "execution_count": 0,
      "outputs": [
        {
          "output_type": "stream",
          "text": [
            "Notice the framing: you are either a believer or not a believer; there is an \"authority model\" of truth sources, pi… https://t.co/xR6CERfCS4 \n",
            "\n",
            "Notice the framing: you are either a believer or not a believer; there is an \"authority model\" of truth sources, pick your external authority. Thinking for yourself is not an option to be considered. Indeed, it is implicitly derided as \"backtracking\" here. https://t.co/9eeRmQA1DK\n"
          ],
          "name": "stdout"
        }
      ]
    },
    {
      "cell_type": "code",
      "metadata": {
        "id": "ZUbZkxjqJ_DK",
        "colab_type": "code",
        "colab": {}
      },
      "source": [
        "t = []\n",
        "for i in range(len(db)):\n",
        "    if pd.notna(db.loc[i][\"extended_tweet\"]):\n",
        "        t.append(full_text(db.loc[i][\"extended_tweet\"]))\n",
        "    else:\n",
        "        t.append(db.loc[i]['text'])"
      ],
      "execution_count": 0,
      "outputs": []
    },
    {
      "cell_type": "code",
      "metadata": {
        "scrolled": false,
        "id": "ELT_77EIJ_DM",
        "colab_type": "code",
        "outputId": "4bf7bd03-37a6-47b8-bb42-5b9b3cffd9b2",
        "colab": {}
      },
      "source": [
        "db.text = t\n",
        "print(db.loc[2]['text'],\"\\n\")\n",
        "print(full_text(db.loc[2]['extended_tweet']))"
      ],
      "execution_count": 0,
      "outputs": [
        {
          "output_type": "stream",
          "text": [
            "Notice the framing: you are either a believer or not a believer; there is an \"authority model\" of truth sources, pick your external authority. Thinking for yourself is not an option to be considered. Indeed, it is implicitly derided as \"backtracking\" here. https://t.co/9eeRmQA1DK \n",
            "\n",
            "Notice the framing: you are either a believer or not a believer; there is an \"authority model\" of truth sources, pick your external authority. Thinking for yourself is not an option to be considered. Indeed, it is implicitly derided as \"backtracking\" here. https://t.co/9eeRmQA1DK\n"
          ],
          "name": "stdout"
        }
      ]
    },
    {
      "cell_type": "code",
      "metadata": {
        "id": "H-WqOV0FJ_DO",
        "colab_type": "code",
        "outputId": "b638dc64-4526-4d52-8da5-5ffee08d5226",
        "colab": {}
      },
      "source": [
        "db.drop(\"extended_tweet\",axis=1,inplace=True)\n",
        "len(db.columns)"
      ],
      "execution_count": 0,
      "outputs": [
        {
          "output_type": "execute_result",
          "data": {
            "text/plain": [
              "9"
            ]
          },
          "metadata": {
            "tags": []
          },
          "execution_count": 165
        }
      ]
    },
    {
      "cell_type": "markdown",
      "metadata": {
        "id": "GvRDzTa7J_DR",
        "colab_type": "text"
      },
      "source": [
        "### Entities\n",
        "\n",
        "Entities values are a set of:\n",
        "- Hashtags\n",
        "- URLs\n",
        "- Mentions\n",
        "- Symbols"
      ]
    },
    {
      "cell_type": "code",
      "metadata": {
        "id": "yOfSIJkAJ_DR",
        "colab_type": "code",
        "outputId": "bffeae09-7cce-4cdd-f285-b7405656ff22",
        "colab": {}
      },
      "source": [
        "db.loc[5]['entities']"
      ],
      "execution_count": 0,
      "outputs": [
        {
          "output_type": "execute_result",
          "data": {
            "text/plain": [
              "\"{'hashtags': [{'text': 'OBAMAGATE', 'indices': [20, 30]}, {'text': 'QANON', 'indices': [119, 125]}, {'text': 'WWG1WGA', 'indices': [126, 134]}], 'urls': [], 'user_mentions': [{'screen_name': 'ThanQTrump', 'name': 'Facts over Feelings', 'id': 935571037441445888, 'id_str': '935571037441445888', 'indices': [3, 14]}], 'symbols': []}\""
            ]
          },
          "metadata": {
            "tags": []
          },
          "execution_count": 231
        }
      ]
    },
    {
      "cell_type": "markdown",
      "metadata": {
        "id": "JZfxqla4J_DV",
        "colab_type": "text"
      },
      "source": [
        "#### Hashtags"
      ]
    },
    {
      "cell_type": "code",
      "metadata": {
        "scrolled": true,
        "id": "qlZ9jAEZJ_DW",
        "colab_type": "code",
        "outputId": "7101287a-f866-4fd3-a04f-51cd7a9b03d9",
        "colab": {}
      },
      "source": [
        "def extract_hashtags(x):\n",
        "    x = ast.literal_eval(x)\n",
        "    a = x['hashtags']\n",
        "    return [a[i]['text'] for i in range(len(a))]\n",
        "\n",
        "extract_hashtags(db.loc[5]['entities'])"
      ],
      "execution_count": 0,
      "outputs": [
        {
          "output_type": "execute_result",
          "data": {
            "text/plain": [
              "['OBAMAGATE', 'QANON', 'WWG1WGA']"
            ]
          },
          "metadata": {
            "tags": []
          },
          "execution_count": 217
        }
      ]
    },
    {
      "cell_type": "code",
      "metadata": {
        "scrolled": true,
        "id": "gGNLUlvcJ_DZ",
        "colab_type": "code",
        "colab": {}
      },
      "source": [
        "h = []\n",
        "for i in range(len(db)):\n",
        "    h.append(extract_hashtags(db.loc[i]['entities']))\n",
        "db['hashtags'] = h"
      ],
      "execution_count": 0,
      "outputs": []
    },
    {
      "cell_type": "markdown",
      "metadata": {
        "id": "2iPsWRRqJ_Dc",
        "colab_type": "text"
      },
      "source": [
        "#### Hashtags Analysis"
      ]
    },
    {
      "cell_type": "code",
      "metadata": {
        "scrolled": false,
        "id": "kzH3bK8_J_Dc",
        "colab_type": "code",
        "outputId": "1e02899b-8696-40fb-cbdf-e71bb0a6a922",
        "colab": {}
      },
      "source": [
        "hlist = [j for i in db.hashtags for j in i]\n",
        "#Normalize\n",
        "hlist = [e.lower() for e in hlist]\n",
        "hdb = pd.DataFrame.from_dict(dict(Counter(hlist)), orient='index',columns=['Freq'])\n",
        "hdb = hdb.sort_values('Freq',ascending=False)\n",
        "hdb.reset_index(inplace=True)\n",
        "hdb.columns = ['Hashtag','Freq']\n",
        "#Top 20\n",
        "hdb.iloc[0:20]"
      ],
      "execution_count": 0,
      "outputs": [
        {
          "output_type": "execute_result",
          "data": {
            "text/html": [
              "<div>\n",
              "<style scoped>\n",
              "    .dataframe tbody tr th:only-of-type {\n",
              "        vertical-align: middle;\n",
              "    }\n",
              "\n",
              "    .dataframe tbody tr th {\n",
              "        vertical-align: top;\n",
              "    }\n",
              "\n",
              "    .dataframe thead th {\n",
              "        text-align: right;\n",
              "    }\n",
              "</style>\n",
              "<table border=\"1\" class=\"dataframe\">\n",
              "  <thead>\n",
              "    <tr style=\"text-align: right;\">\n",
              "      <th></th>\n",
              "      <th>Hashtag</th>\n",
              "      <th>Freq</th>\n",
              "    </tr>\n",
              "  </thead>\n",
              "  <tbody>\n",
              "    <tr>\n",
              "      <th>0</th>\n",
              "      <td>qanon</td>\n",
              "      <td>15534</td>\n",
              "    </tr>\n",
              "    <tr>\n",
              "      <th>1</th>\n",
              "      <td>wwg1wga</td>\n",
              "      <td>8534</td>\n",
              "    </tr>\n",
              "    <tr>\n",
              "      <th>2</th>\n",
              "      <td>fakenews</td>\n",
              "      <td>2352</td>\n",
              "    </tr>\n",
              "    <tr>\n",
              "      <th>3</th>\n",
              "      <td>wearethenewsnow</td>\n",
              "      <td>1364</td>\n",
              "    </tr>\n",
              "    <tr>\n",
              "      <th>4</th>\n",
              "      <td>greatawakening</td>\n",
              "      <td>1353</td>\n",
              "    </tr>\n",
              "    <tr>\n",
              "      <th>5</th>\n",
              "      <td>obamagate</td>\n",
              "      <td>1229</td>\n",
              "    </tr>\n",
              "    <tr>\n",
              "      <th>6</th>\n",
              "      <td>wwg1wgaworldwide</td>\n",
              "      <td>1087</td>\n",
              "    </tr>\n",
              "    <tr>\n",
              "      <th>7</th>\n",
              "      <td>thegreatawakening</td>\n",
              "      <td>1053</td>\n",
              "    </tr>\n",
              "    <tr>\n",
              "      <th>8</th>\n",
              "      <td>factsmatter</td>\n",
              "      <td>919</td>\n",
              "    </tr>\n",
              "    <tr>\n",
              "      <th>9</th>\n",
              "      <td>wakeupamerica</td>\n",
              "      <td>806</td>\n",
              "    </tr>\n",
              "    <tr>\n",
              "      <th>10</th>\n",
              "      <td>maga</td>\n",
              "      <td>732</td>\n",
              "    </tr>\n",
              "    <tr>\n",
              "      <th>11</th>\n",
              "      <td>q</td>\n",
              "      <td>668</td>\n",
              "    </tr>\n",
              "    <tr>\n",
              "      <th>12</th>\n",
              "      <td>qarmy</td>\n",
              "      <td>611</td>\n",
              "    </tr>\n",
              "    <tr>\n",
              "      <th>13</th>\n",
              "      <td>blacklivesmatter</td>\n",
              "      <td>589</td>\n",
              "    </tr>\n",
              "    <tr>\n",
              "      <th>14</th>\n",
              "      <td>trump2020</td>\n",
              "      <td>478</td>\n",
              "    </tr>\n",
              "    <tr>\n",
              "      <th>15</th>\n",
              "      <td>coronavirus</td>\n",
              "      <td>378</td>\n",
              "    </tr>\n",
              "    <tr>\n",
              "      <th>16</th>\n",
              "      <td>exposeantifa</td>\n",
              "      <td>348</td>\n",
              "    </tr>\n",
              "    <tr>\n",
              "      <th>17</th>\n",
              "      <td>qanons</td>\n",
              "      <td>335</td>\n",
              "    </tr>\n",
              "    <tr>\n",
              "      <th>18</th>\n",
              "      <td>antifa</td>\n",
              "      <td>318</td>\n",
              "    </tr>\n",
              "    <tr>\n",
              "      <th>19</th>\n",
              "      <td>godwins</td>\n",
              "      <td>302</td>\n",
              "    </tr>\n",
              "  </tbody>\n",
              "</table>\n",
              "</div>"
            ],
            "text/plain": [
              "              Hashtag   Freq\n",
              "0               qanon  15534\n",
              "1             wwg1wga   8534\n",
              "2            fakenews   2352\n",
              "3     wearethenewsnow   1364\n",
              "4      greatawakening   1353\n",
              "5           obamagate   1229\n",
              "6    wwg1wgaworldwide   1087\n",
              "7   thegreatawakening   1053\n",
              "8         factsmatter    919\n",
              "9       wakeupamerica    806\n",
              "10               maga    732\n",
              "11                  q    668\n",
              "12              qarmy    611\n",
              "13   blacklivesmatter    589\n",
              "14          trump2020    478\n",
              "15        coronavirus    378\n",
              "16       exposeantifa    348\n",
              "17             qanons    335\n",
              "18             antifa    318\n",
              "19            godwins    302"
            ]
          },
          "metadata": {
            "tags": []
          },
          "execution_count": 277
        }
      ]
    },
    {
      "cell_type": "code",
      "metadata": {
        "id": "aFCJhQb7J_De",
        "colab_type": "code",
        "outputId": "b299523e-07cb-4d01-e20a-171a6bb08e9b",
        "colab": {}
      },
      "source": [
        "#Plot\n",
        "hdb_ = hdb.iloc[0:25]\n",
        "sns.set(style=\"darkgrid\")\n",
        "hplot = sns.barplot(x=\"Hashtag\", y=\"Freq\", data=hdb_,palette=\"Set1\")\n",
        "plt.xticks(\n",
        "    rotation=50, \n",
        "    horizontalalignment='right'  \n",
        ")\n",
        "plt.xlabel(\"\")\n",
        "plt.ylabel(\"Frequency\")\n",
        "plt.title(\"Top 25 Hashtags\")"
      ],
      "execution_count": 0,
      "outputs": [
        {
          "output_type": "execute_result",
          "data": {
            "text/plain": [
              "Text(0.5, 1.0, 'Top 25 Hashtags')"
            ]
          },
          "metadata": {
            "tags": []
          },
          "execution_count": 306
        },
        {
          "output_type": "display_data",
          "data": {
            "image/png": "[encoded data removed]",
            "text/plain": [
              "<Figure size 432x288 with 1 Axes>"
            ]
          },
          "metadata": {
            "tags": []
          }
        }
      ]
    },
    {
      "cell_type": "code",
      "metadata": {
        "id": "ukokSoeUJ_Dh",
        "colab_type": "code",
        "outputId": "4bc996fb-64ea-4ee0-e49d-3668449b5651",
        "colab": {}
      },
      "source": [
        "#LogDistrobution\n",
        "sns.barplot(x=\"Hashtag\", y=np.log(hdb.Freq), data=hdb,palette=\"Set1\")\n",
        "plt.xticks([], [])\n",
        "plt.xlabel(\"\")\n",
        "plt.ylabel(\"Frequency\")\n",
        "plt.title(\"Hashtags LogFrequency\")"
      ],
      "execution_count": 0,
      "outputs": [
        {
          "output_type": "execute_result",
          "data": {
            "text/plain": [
              "Text(0.5, 1.0, 'Hashtags LogFrequency')"
            ]
          },
          "metadata": {
            "tags": []
          },
          "execution_count": 313
        },
        {
          "output_type": "display_data",
          "data": {
            "image/png": "[encoded data removed]",
            "text/plain": [
              "<Figure size 432x288 with 1 Axes>"
            ]
          },
          "metadata": {
            "tags": []
          }
        }
      ]
    },
    {
      "cell_type": "markdown",
      "metadata": {
        "id": "3WyFzfTkJ_Dj",
        "colab_type": "text"
      },
      "source": [
        "#### Mentions"
      ]
    },
    {
      "cell_type": "code",
      "metadata": {
        "id": "-ZadBULaJ_Dj",
        "colab_type": "code",
        "outputId": "d2130c7f-e46f-4fb3-fa48-ef7e2caf8b31",
        "colab": {}
      },
      "source": [
        "def extract_mentions(x):\n",
        "    x = ast.literal_eval(x)\n",
        "    b = x['user_mentions']\n",
        "    return [b[i]['screen_name'] for i in range(len(b))]\n",
        "\n",
        "extract_mentions(db.loc[20000]['entities'])"
      ],
      "execution_count": 0,
      "outputs": [
        {
          "output_type": "execute_result",
          "data": {
            "text/plain": [
              "['girlsreallyrule', 'TheJusticeDept']"
            ]
          },
          "metadata": {
            "tags": []
          },
          "execution_count": 238
        }
      ]
    },
    {
      "cell_type": "code",
      "metadata": {
        "id": "-7gqu-BnJ_Dl",
        "colab_type": "code",
        "colab": {}
      },
      "source": [
        "m = []\n",
        "for i in range(len(db)):\n",
        "    m.append(extract_mentions(db.loc[i]['entities']))\n",
        "db['mentions'] = m"
      ],
      "execution_count": 0,
      "outputs": []
    },
    {
      "cell_type": "markdown",
      "metadata": {
        "id": "g6cU3dllJ_Do",
        "colab_type": "text"
      },
      "source": [
        "#### Mentions Analysis"
      ]
    },
    {
      "cell_type": "code",
      "metadata": {
        "scrolled": false,
        "id": "4a78Ohr3J_Do",
        "colab_type": "code",
        "outputId": "85ca7c44-f562-4688-85b5-ad67b4f882d2",
        "colab": {}
      },
      "source": [
        "mlist = [j for i in db.mentions for j in i]\n",
        "mdb = pd.DataFrame.from_dict(dict(Counter(mlist)), orient='index',columns=['Freq'])\n",
        "mdb = mdb.sort_values('Freq',ascending=False)\n",
        "mdb.reset_index(inplace=True)\n",
        "mdb.columns = ['Mention','Freq']\n",
        "#Top 20\n",
        "mdb.iloc[0:20]"
      ],
      "execution_count": 0,
      "outputs": [
        {
          "output_type": "execute_result",
          "data": {
            "text/html": [
              "<div>\n",
              "<style scoped>\n",
              "    .dataframe tbody tr th:only-of-type {\n",
              "        vertical-align: middle;\n",
              "    }\n",
              "\n",
              "    .dataframe tbody tr th {\n",
              "        vertical-align: top;\n",
              "    }\n",
              "\n",
              "    .dataframe thead th {\n",
              "        text-align: right;\n",
              "    }\n",
              "</style>\n",
              "<table border=\"1\" class=\"dataframe\">\n",
              "  <thead>\n",
              "    <tr style=\"text-align: right;\">\n",
              "      <th></th>\n",
              "      <th>Mention</th>\n",
              "      <th>Freq</th>\n",
              "    </tr>\n",
              "  </thead>\n",
              "  <tbody>\n",
              "    <tr>\n",
              "      <th>0</th>\n",
              "      <td>honest2gosh</td>\n",
              "      <td>2760</td>\n",
              "    </tr>\n",
              "    <tr>\n",
              "      <th>1</th>\n",
              "      <td>cjtruth</td>\n",
              "      <td>2291</td>\n",
              "    </tr>\n",
              "    <tr>\n",
              "      <th>2</th>\n",
              "      <td>JuliansRum</td>\n",
              "      <td>2108</td>\n",
              "    </tr>\n",
              "    <tr>\n",
              "      <th>3</th>\n",
              "      <td>realDonaldTrump</td>\n",
              "      <td>1969</td>\n",
              "    </tr>\n",
              "    <tr>\n",
              "      <th>4</th>\n",
              "      <td>M2Madness</td>\n",
              "      <td>1887</td>\n",
              "    </tr>\n",
              "    <tr>\n",
              "      <th>5</th>\n",
              "      <td>Inevitable_ET</td>\n",
              "      <td>1696</td>\n",
              "    </tr>\n",
              "    <tr>\n",
              "      <th>6</th>\n",
              "      <td>Qanon76</td>\n",
              "      <td>1341</td>\n",
              "    </tr>\n",
              "    <tr>\n",
              "      <th>7</th>\n",
              "      <td>SheepKnowMore</td>\n",
              "      <td>1096</td>\n",
              "    </tr>\n",
              "    <tr>\n",
              "      <th>8</th>\n",
              "      <td>EyesOnQ</td>\n",
              "      <td>933</td>\n",
              "    </tr>\n",
              "    <tr>\n",
              "      <th>9</th>\n",
              "      <td>PayRespectsF</td>\n",
              "      <td>927</td>\n",
              "    </tr>\n",
              "    <tr>\n",
              "      <th>10</th>\n",
              "      <td>Yoder_Esqq</td>\n",
              "      <td>910</td>\n",
              "    </tr>\n",
              "    <tr>\n",
              "      <th>11</th>\n",
              "      <td>IndySpanglish</td>\n",
              "      <td>876</td>\n",
              "    </tr>\n",
              "    <tr>\n",
              "      <th>12</th>\n",
              "      <td>POTUS</td>\n",
              "      <td>860</td>\n",
              "    </tr>\n",
              "    <tr>\n",
              "      <th>13</th>\n",
              "      <td>intheMatrixxx</td>\n",
              "      <td>840</td>\n",
              "    </tr>\n",
              "    <tr>\n",
              "      <th>14</th>\n",
              "      <td>stormypatriot21</td>\n",
              "      <td>719</td>\n",
              "    </tr>\n",
              "    <tr>\n",
              "      <th>15</th>\n",
              "      <td>georgesoros</td>\n",
              "      <td>677</td>\n",
              "    </tr>\n",
              "    <tr>\n",
              "      <th>16</th>\n",
              "      <td>pappyG45</td>\n",
              "      <td>640</td>\n",
              "    </tr>\n",
              "    <tr>\n",
              "      <th>17</th>\n",
              "      <td>thehill</td>\n",
              "      <td>562</td>\n",
              "    </tr>\n",
              "    <tr>\n",
              "      <th>18</th>\n",
              "      <td>Wyn1745</td>\n",
              "      <td>551</td>\n",
              "    </tr>\n",
              "    <tr>\n",
              "      <th>19</th>\n",
              "      <td>wmalnews</td>\n",
              "      <td>534</td>\n",
              "    </tr>\n",
              "  </tbody>\n",
              "</table>\n",
              "</div>"
            ],
            "text/plain": [
              "            Mention  Freq\n",
              "0       honest2gosh  2760\n",
              "1           cjtruth  2291\n",
              "2        JuliansRum  2108\n",
              "3   realDonaldTrump  1969\n",
              "4         M2Madness  1887\n",
              "5     Inevitable_ET  1696\n",
              "6           Qanon76  1341\n",
              "7     SheepKnowMore  1096\n",
              "8           EyesOnQ   933\n",
              "9      PayRespectsF   927\n",
              "10       Yoder_Esqq   910\n",
              "11    IndySpanglish   876\n",
              "12            POTUS   860\n",
              "13    intheMatrixxx   840\n",
              "14  stormypatriot21   719\n",
              "15      georgesoros   677\n",
              "16         pappyG45   640\n",
              "17          thehill   562\n",
              "18          Wyn1745   551\n",
              "19         wmalnews   534"
            ]
          },
          "metadata": {
            "tags": []
          },
          "execution_count": 279
        }
      ]
    },
    {
      "cell_type": "code",
      "metadata": {
        "scrolled": true,
        "id": "aFiEimD2J_Dq",
        "colab_type": "code",
        "outputId": "84ae4e88-3238-4b7d-d213-ed682fdd9b28",
        "colab": {}
      },
      "source": [
        "#Plot\n",
        "mdb_ = mdb.iloc[0:25]\n",
        "sns.barplot(x=\"Mention\", y=\"Freq\", data=mdb_,palette=\"Set1\")\n",
        "plt.xticks(\n",
        "    rotation=50, \n",
        "    horizontalalignment='right'  \n",
        ")\n",
        "plt.xlabel(\"\")\n",
        "plt.ylabel(\"Frequency\")\n",
        "plt.title(\"Top 25 Mentions\")"
      ],
      "execution_count": 0,
      "outputs": [
        {
          "output_type": "execute_result",
          "data": {
            "text/plain": [
              "Text(0.5, 1.0, 'Top 25 Mentions')"
            ]
          },
          "metadata": {
            "tags": []
          },
          "execution_count": 312
        },
        {
          "output_type": "display_data",
          "data": {
            "image/png": "[encoded data removed]",
            "text/plain": [
              "<Figure size 432x288 with 1 Axes>"
            ]
          },
          "metadata": {
            "tags": []
          }
        }
      ]
    },
    {
      "cell_type": "code",
      "metadata": {
        "id": "Pb3fBmWlJ_Dt",
        "colab_type": "code",
        "outputId": "16aa5e3c-653d-4ec1-ada3-fc742e014138",
        "colab": {}
      },
      "source": [
        "#LogDistrobution\n",
        "sns.barplot(x=\"Mention\", y=np.log(mdb.Freq), data=mdb,palette=\"Set1\")\n",
        "plt.xticks([], [])\n",
        "plt.xlabel(\"\")\n",
        "plt.ylabel(\"Frequency\")\n",
        "plt.title(\"Mentions LogFrequency\")"
      ],
      "execution_count": 0,
      "outputs": [
        {
          "output_type": "execute_result",
          "data": {
            "text/plain": [
              "Text(0.5, 1.0, 'Mentions LogFrequency')"
            ]
          },
          "metadata": {
            "tags": []
          },
          "execution_count": 316
        },
        {
          "output_type": "display_data",
          "data": {
            "image/png": "[encoded data removed]",
            "text/plain": [
              "<Figure size 432x288 with 1 Axes>"
            ]
          },
          "metadata": {
            "tags": []
          }
        }
      ]
    },
    {
      "cell_type": "code",
      "metadata": {
        "id": "nsPKJwL4J_Dw",
        "colab_type": "code",
        "outputId": "bfbe06c3-393c-4aa1-c580-4d5e70952539",
        "colab": {}
      },
      "source": [
        "db.drop(\"entities\",axis=1,inplace=True)\n",
        "len(db.columns)"
      ],
      "execution_count": 0,
      "outputs": [
        {
          "output_type": "execute_result",
          "data": {
            "text/plain": [
              "10"
            ]
          },
          "metadata": {
            "tags": []
          },
          "execution_count": 242
        }
      ]
    },
    {
      "cell_type": "markdown",
      "metadata": {
        "id": "fOhmuVh8J_Dz",
        "colab_type": "text"
      },
      "source": [
        "### Retweet"
      ]
    },
    {
      "cell_type": "code",
      "metadata": {
        "id": "_jHkXK7iJ_D0",
        "colab_type": "code",
        "outputId": "07034927-9279-4834-dc7f-820ad9db1963",
        "colab": {}
      },
      "source": [
        "def extract_user_retweeted(x):\n",
        "    x = ast.literal_eval(x)\n",
        "    return x['user']['screen_name']\n",
        "\n",
        "extract_user_retweeted(db.loc[0][\"retweeted_status\"])"
      ],
      "execution_count": 0,
      "outputs": [
        {
          "output_type": "execute_result",
          "data": {
            "text/plain": [
              "'M2Madness'"
            ]
          },
          "metadata": {
            "tags": []
          },
          "execution_count": 366
        }
      ]
    },
    {
      "cell_type": "code",
      "metadata": {
        "id": "2TK7KZ4iJ_D2",
        "colab_type": "code",
        "colab": {}
      },
      "source": [
        "r = []\n",
        "for i in range(len(db)):\n",
        "    if pd.notna(db.loc[i]['retweeted_status']):\n",
        "        r.append(extract_user_retweeted(db.loc[i]['retweeted_status']))\n",
        "    else:\n",
        "        r.append(np.nan)\n",
        "db['retweeted_user'] = r"
      ],
      "execution_count": 0,
      "outputs": []
    },
    {
      "cell_type": "code",
      "metadata": {
        "id": "OTnKBHx_J_D4",
        "colab_type": "code",
        "outputId": "3476a9e2-3c87-43fc-f6ad-c27d63338d0a",
        "colab": {}
      },
      "source": [
        "db.drop(\"retweeted_status\",axis=1,inplace=True)\n",
        "len(db.columns)"
      ],
      "execution_count": 0,
      "outputs": [
        {
          "output_type": "execute_result",
          "data": {
            "text/plain": [
              "10"
            ]
          },
          "metadata": {
            "tags": []
          },
          "execution_count": 372
        }
      ]
    },
    {
      "cell_type": "markdown",
      "metadata": {
        "id": "4D8J1oY1J_D6",
        "colab_type": "text"
      },
      "source": [
        "### Quotes"
      ]
    },
    {
      "cell_type": "code",
      "metadata": {
        "scrolled": true,
        "id": "67SjISo5J_D6",
        "colab_type": "code",
        "outputId": "8528b7c5-426a-45d7-c82e-4a012c758ac8",
        "colab": {}
      },
      "source": [
        "def extract_user_quoted(x):\n",
        "    x = ast.literal_eval(x)\n",
        "    return x['user']['screen_name']\n",
        "\n",
        "extract_user_quoted(db.loc[16][\"quoted_status\"])"
      ],
      "execution_count": 0,
      "outputs": [
        {
          "output_type": "execute_result",
          "data": {
            "text/plain": [
              "'ThanQTrump'"
            ]
          },
          "metadata": {
            "tags": []
          },
          "execution_count": 389
        }
      ]
    },
    {
      "cell_type": "code",
      "metadata": {
        "id": "kk5RQMkFJ_D8",
        "colab_type": "code",
        "colab": {}
      },
      "source": [
        "q = []\n",
        "for i in range(len(db)):\n",
        "    if pd.notna(db.loc[i]['quoted_status']):\n",
        "        q.append(extract_user_quoted(db.loc[i]['quoted_status']))\n",
        "    else:\n",
        "        q.append(np.nan)\n",
        "db['quoted_user'] = q"
      ],
      "execution_count": 0,
      "outputs": []
    },
    {
      "cell_type": "code",
      "metadata": {
        "id": "rR3hadsHJ_D-",
        "colab_type": "code",
        "outputId": "a6b13e64-affe-4b32-de1f-8e76c3f8d521",
        "colab": {}
      },
      "source": [
        "db.drop([\"quoted_status\",\"quoted_status_id\"],axis=1,inplace=True)\n",
        "len(db.columns)"
      ],
      "execution_count": 0,
      "outputs": [
        {
          "output_type": "execute_result",
          "data": {
            "text/plain": [
              "9"
            ]
          },
          "metadata": {
            "tags": []
          },
          "execution_count": 393
        }
      ]
    },
    {
      "cell_type": "markdown",
      "metadata": {
        "id": "Vtp_UB_IJ_EA",
        "colab_type": "text"
      },
      "source": [
        "### Replies"
      ]
    },
    {
      "cell_type": "code",
      "metadata": {
        "id": "fruEud3SJ_EA",
        "colab_type": "code",
        "colab": {}
      },
      "source": [
        "db.drop([\"in_reply_to_status_id\"],axis=1,inplace=True)\n",
        "db.rename(columns={'in_reply_to_screen_name':'replied_user'}, inplace=True)"
      ],
      "execution_count": 0,
      "outputs": []
    },
    {
      "cell_type": "markdown",
      "metadata": {
        "id": "9n_jdVz8J_EC",
        "colab_type": "text"
      },
      "source": [
        "### User\n",
        "\n",
        "Interesting user's attributes are:\n",
        "- screen_name (unique name)\n",
        "- followers_count (followers)\n",
        "- friends_count (following)"
      ]
    },
    {
      "cell_type": "code",
      "metadata": {
        "scrolled": true,
        "id": "xN-DEBlcJ_EC",
        "colab_type": "code",
        "outputId": "d0a61113-8deb-42a5-97a6-99e3123eb513",
        "colab": {}
      },
      "source": [
        "def get_data(x,d):\n",
        "    x = ast.literal_eval(x)\n",
        "    if d==\"screen_name\":\n",
        "        return x['screen_name']\n",
        "    elif d==\"follower\":\n",
        "        return x['followers_count']\n",
        "    elif d==\"following\":\n",
        "        return x['friends_count']\n",
        "\n",
        "\n",
        "print(\"Screen name:\",get_data(db.loc[0]['user'],\"screen_name\"))\n",
        "print(\"Number of follower:\",get_data(db.loc[0]['user'],\"follower\"))\n",
        "print(\"Number of following:\",get_data(db.loc[0]['user'],\"following\"))"
      ],
      "execution_count": 0,
      "outputs": [
        {
          "output_type": "stream",
          "text": [
            "Screen name: Amynicole1005\n",
            "Number of follower: 616\n",
            "Number of following: 872\n"
          ],
          "name": "stdout"
        }
      ]
    },
    {
      "cell_type": "code",
      "metadata": {
        "id": "vkFKP5MMJ_EF",
        "colab_type": "code",
        "colab": {}
      },
      "source": [
        "s = []\n",
        "er = []\n",
        "ing = []\n",
        "for i in range(len(db)):\n",
        "    s.append(get_data(db.loc[i]['user'],\"screen_name\"))\n",
        "    er.append(get_data(db.loc[i]['user'],\"follower\"))\n",
        "    ing.append(get_data(db.loc[i]['user'],\"following\"))\n",
        "    \n",
        "db['User'] = s\n",
        "db['Follower'] = er\n",
        "db['Following'] = ing\n",
        "\n",
        "db.drop([\"user\"],axis=1,inplace=True)"
      ],
      "execution_count": 0,
      "outputs": []
    },
    {
      "cell_type": "code",
      "metadata": {
        "scrolled": true,
        "id": "XQ7yPdclJ_EH",
        "colab_type": "code",
        "outputId": "b10161df-da04-44e8-8b1c-5857cb1b741c",
        "colab": {}
      },
      "source": [
        "db = db[['id','User','text','hashtags','mentions','Follower','Following','retweeted_user',\n",
        "        'quoted_user','replied_user']]\n",
        "db.head(1)"
      ],
      "execution_count": 0,
      "outputs": [
        {
          "output_type": "execute_result",
          "data": {
            "text/html": [
              "<div>\n",
              "<style scoped>\n",
              "    .dataframe tbody tr th:only-of-type {\n",
              "        vertical-align: middle;\n",
              "    }\n",
              "\n",
              "    .dataframe tbody tr th {\n",
              "        vertical-align: top;\n",
              "    }\n",
              "\n",
              "    .dataframe thead th {\n",
              "        text-align: right;\n",
              "    }\n",
              "</style>\n",
              "<table border=\"1\" class=\"dataframe\">\n",
              "  <thead>\n",
              "    <tr style=\"text-align: right;\">\n",
              "      <th></th>\n",
              "      <th>id</th>\n",
              "      <th>User</th>\n",
              "      <th>text</th>\n",
              "      <th>hashtags</th>\n",
              "      <th>mentions</th>\n",
              "      <th>Follower</th>\n",
              "      <th>Following</th>\n",
              "      <th>retweeted_user</th>\n",
              "      <th>quoted_user</th>\n",
              "      <th>replied_user</th>\n",
              "    </tr>\n",
              "  </thead>\n",
              "  <tbody>\n",
              "    <tr>\n",
              "      <th>0</th>\n",
              "      <td>1268545440913424385</td>\n",
              "      <td>Amynicole1005</td>\n",
              "      <td>RT @M2Madness: The MSM wants you to forget about them saying this before the riots started...\\n\\nEnemy of the People... #QAnon H/t Anon https…</td>\n",
              "      <td>['QAnon']</td>\n",
              "      <td>[M2Madness]</td>\n",
              "      <td>616</td>\n",
              "      <td>872</td>\n",
              "      <td>M2Madness</td>\n",
              "      <td>NaN</td>\n",
              "      <td>NaN</td>\n",
              "    </tr>\n",
              "  </tbody>\n",
              "</table>\n",
              "</div>"
            ],
            "text/plain": [
              "                    id           User  \\\n",
              "0  1268545440913424385  Amynicole1005   \n",
              "\n",
              "                                                                                                                                             text  \\\n",
              "0  RT @M2Madness: The MSM wants you to forget about them saying this before the riots started...\\n\\nEnemy of the People... #QAnon H/t Anon https…   \n",
              "\n",
              "    hashtags     mentions  Follower  Following retweeted_user quoted_user  \\\n",
              "0  ['QAnon']  [M2Madness]       616        872      M2Madness         NaN   \n",
              "\n",
              "  replied_user  \n",
              "0          NaN  "
            ]
          },
          "metadata": {
            "tags": []
          },
          "execution_count": 423
        }
      ]
    },
    {
      "cell_type": "markdown",
      "metadata": {
        "id": "-MRu4LehJ_EJ",
        "colab_type": "text"
      },
      "source": [
        "#### Users Analysis"
      ]
    },
    {
      "cell_type": "code",
      "metadata": {
        "scrolled": false,
        "id": "9NfgGFYoJ_EK",
        "colab_type": "code",
        "outputId": "a6f819f7-0863-42fc-99eb-26c2fbd2d69b",
        "colab": {}
      },
      "source": [
        "print(\"Number of users: \",len(db.User.unique()))\n",
        "print(\"Number of mentioned user: \",len(db.mentions.unique()))\n",
        "print(\"Number of user replied to: \",len(db.replied_user.unique()))\n",
        "print(\"Number of quoted user: \",len(db.quoted_user.unique()))\n",
        "total = set(db.User.unique())|set(mlist)|set(db.replied_user.unique())|set(db.quoted_user.unique())\n",
        "print(\"Total number of users: \",len(total))\n",
        "#Create interaction list\n",
        "u_count = dict(Counter([i for i in db.User if pd.notna(i)]))\n",
        "r_count = dict(Counter([i for i in db.replied_user if pd.notna(i)]))\n",
        "q_count = dict(Counter([i for i in db.quoted_user if pd.notna(i)]))\n",
        "m_count = [ast.literal_eval(i) for i in db.mentions]\n",
        "m_count = dict(Counter([j for i in m_count for j in i]))\n",
        "input=[u_count,r_count,q_count,m_count]\n",
        "d = pd.DataFrame.from_dict(sum((Counter(dict(x)) for x in input),Counter()),orient=\"index\",columns=['N. interactions'])\n",
        "d.sort_values(\"N. interactions\",ascending=False,inplace=True)\n",
        "print(\"20 most interacting users:\",\"\\n\")\n",
        "display(d.iloc[0:20])"
      ],
      "execution_count": 0,
      "outputs": [
        {
          "output_type": "stream",
          "text": [
            "Number of users:  26770\n",
            "Number of mentioned user:  6420\n",
            "Number of user replied to:  2025\n",
            "Number of quoted user:  1662\n",
            "Total number of users:  28922\n",
            "20 most interacting users: \n",
            "\n"
          ],
          "name": "stdout"
        },
        {
          "output_type": "display_data",
          "data": {
            "text/html": [
              "<div>\n",
              "<style scoped>\n",
              "    .dataframe tbody tr th:only-of-type {\n",
              "        vertical-align: middle;\n",
              "    }\n",
              "\n",
              "    .dataframe tbody tr th {\n",
              "        vertical-align: top;\n",
              "    }\n",
              "\n",
              "    .dataframe thead th {\n",
              "        text-align: right;\n",
              "    }\n",
              "</style>\n",
              "<table border=\"1\" class=\"dataframe\">\n",
              "  <thead>\n",
              "    <tr style=\"text-align: right;\">\n",
              "      <th></th>\n",
              "      <th>N. interactions</th>\n",
              "    </tr>\n",
              "  </thead>\n",
              "  <tbody>\n",
              "    <tr>\n",
              "      <th>honest2gosh</th>\n",
              "      <td>4007</td>\n",
              "    </tr>\n",
              "    <tr>\n",
              "      <th>cjtruth</th>\n",
              "      <td>2681</td>\n",
              "    </tr>\n",
              "    <tr>\n",
              "      <th>realDonaldTrump</th>\n",
              "      <td>2492</td>\n",
              "    </tr>\n",
              "    <tr>\n",
              "      <th>JuliansRum</th>\n",
              "      <td>2467</td>\n",
              "    </tr>\n",
              "    <tr>\n",
              "      <th>M2Madness</th>\n",
              "      <td>2287</td>\n",
              "    </tr>\n",
              "    <tr>\n",
              "      <th>Inevitable_ET</th>\n",
              "      <td>1773</td>\n",
              "    </tr>\n",
              "    <tr>\n",
              "      <th>Yoder_Esqq</th>\n",
              "      <td>1477</td>\n",
              "    </tr>\n",
              "    <tr>\n",
              "      <th>Qanon76</th>\n",
              "      <td>1392</td>\n",
              "    </tr>\n",
              "    <tr>\n",
              "      <th>SheepKnowMore</th>\n",
              "      <td>1245</td>\n",
              "    </tr>\n",
              "    <tr>\n",
              "      <th>PayRespectsF</th>\n",
              "      <td>1220</td>\n",
              "    </tr>\n",
              "    <tr>\n",
              "      <th>ThanQTrump</th>\n",
              "      <td>1160</td>\n",
              "    </tr>\n",
              "    <tr>\n",
              "      <th>stormypatriot21</th>\n",
              "      <td>1115</td>\n",
              "    </tr>\n",
              "    <tr>\n",
              "      <th>EyesOnQ</th>\n",
              "      <td>1013</td>\n",
              "    </tr>\n",
              "    <tr>\n",
              "      <th>IndySpanglish</th>\n",
              "      <td>969</td>\n",
              "    </tr>\n",
              "    <tr>\n",
              "      <th>intheMatrixxx</th>\n",
              "      <td>952</td>\n",
              "    </tr>\n",
              "    <tr>\n",
              "      <th>thehill</th>\n",
              "      <td>871</td>\n",
              "    </tr>\n",
              "    <tr>\n",
              "      <th>POTUS</th>\n",
              "      <td>869</td>\n",
              "    </tr>\n",
              "    <tr>\n",
              "      <th>wmalnews</th>\n",
              "      <td>748</td>\n",
              "    </tr>\n",
              "    <tr>\n",
              "      <th>jeremyfaust</th>\n",
              "      <td>681</td>\n",
              "    </tr>\n",
              "    <tr>\n",
              "      <th>georgesoros</th>\n",
              "      <td>680</td>\n",
              "    </tr>\n",
              "  </tbody>\n",
              "</table>\n",
              "</div>"
            ],
            "text/plain": [
              "                 N. interactions\n",
              "honest2gosh                 4007\n",
              "cjtruth                     2681\n",
              "realDonaldTrump             2492\n",
              "JuliansRum                  2467\n",
              "M2Madness                   2287\n",
              "Inevitable_ET               1773\n",
              "Yoder_Esqq                  1477\n",
              "Qanon76                     1392\n",
              "SheepKnowMore               1245\n",
              "PayRespectsF                1220\n",
              "ThanQTrump                  1160\n",
              "stormypatriot21             1115\n",
              "EyesOnQ                     1013\n",
              "IndySpanglish                969\n",
              "intheMatrixxx                952\n",
              "thehill                      871\n",
              "POTUS                        869\n",
              "wmalnews                     748\n",
              "jeremyfaust                  681\n",
              "georgesoros                  680"
            ]
          },
          "metadata": {
            "tags": []
          }
        }
      ]
    },
    {
      "cell_type": "markdown",
      "metadata": {
        "id": "yoTWQeZUJ_EL",
        "colab_type": "text"
      },
      "source": [
        "In this top 20 most interacting/mentioned users we can see famous ones like:\n",
        "- Donald Trump, as [personal account](https://twitter.com/realDonaldTrump) and [official account](https://twitter.com/POTUS)\n",
        "- [George Soros](https://twitter.com/georgesoros)"
      ]
    },
    {
      "cell_type": "markdown",
      "metadata": {
        "id": "wTNX1AGNJ_EM",
        "colab_type": "text"
      },
      "source": [
        "### Duplicates"
      ]
    },
    {
      "cell_type": "code",
      "metadata": {
        "scrolled": true,
        "id": "en02XjhDJ_EM",
        "colab_type": "code",
        "outputId": "952838fa-647f-49ac-c210-3e5166c0b07e",
        "colab": {}
      },
      "source": [
        "#Check full duplicates\n",
        "to_check = set(db.columns)-set(['hashtags','mentions'])\n",
        "print(\"Number of duplicates:\",len(db[db.duplicated(subset=[k for k in to_check],keep='last')]))\n",
        "db.drop_duplicates(subset=[k for k in to_check],keep='last',inplace=True)\n",
        "len(db)"
      ],
      "execution_count": 0,
      "outputs": [
        {
          "output_type": "stream",
          "text": [
            "Number of duplicates: 275\n"
          ],
          "name": "stdout"
        },
        {
          "output_type": "execute_result",
          "data": {
            "text/plain": [
              "49732"
            ]
          },
          "metadata": {
            "tags": []
          },
          "execution_count": 431
        }
      ]
    },
    {
      "cell_type": "code",
      "metadata": {
        "id": "cC0qqT7dJ_EO",
        "colab_type": "code",
        "outputId": "4966f09e-e04e-4e66-c68a-ec39a93ae491",
        "colab": {}
      },
      "source": [
        "print(\"Number of id duplicates:\",len(db[db.duplicated(subset=[\"id\"],keep='last')]))"
      ],
      "execution_count": 0,
      "outputs": [
        {
          "output_type": "stream",
          "text": [
            "Number of id duplicates: 0\n"
          ],
          "name": "stdout"
        }
      ]
    },
    {
      "cell_type": "code",
      "metadata": {
        "id": "lDlDN8uKJ_EQ",
        "colab_type": "code",
        "colab": {}
      },
      "source": [
        "db.to_csv(\"/Users/riccardocervero/Desktop/QAnonRidotto.csv\")"
      ],
      "execution_count": 0,
      "outputs": []
    },
    {
      "cell_type": "markdown",
      "metadata": {
        "id": "cvwUsyWSJ_ES",
        "colab_type": "text"
      },
      "source": [
        "### Text Preprocessing"
      ]
    },
    {
      "cell_type": "code",
      "metadata": {
        "scrolled": true,
        "id": "eWTgKL4zJ_ES",
        "colab_type": "code",
        "colab": {}
      },
      "source": [
        "contractions = {\"ain't\": \"is not\", \"aren't\": \"are not\",\"can't\": \"cannot\", \"'cause\": \"because\", \"could've\": \"could have\", \"couldn't\": \"could not\",\n",
        "                           \"didn't\": \"did not\",  \"doesn't\": \"does not\", \"don't\": \"do not\", \"hadn't\": \"had not\", \"hasn't\": \"has not\", \"haven't\": \"have not\",\n",
        "                           \"he'd\": \"he would\",\"he'll\": \"he will\", \"he's\": \"he is\", \"how'd\": \"how did\", \"how'd'y\": \"how do you\", \"how'll\": \"how will\", \"how's\": \"how is\",\n",
        "                           \"I'd\": \"I would\", \"I'd've\": \"I would have\", \"I'll\": \"I will\", \"I'll've\": \"I will have\",\"I'm\": \"I am\", \"I've\": \"I have\", \"i'd\": \"i would\",\n",
        "                           \"i'd've\": \"i would have\", \"i'll\": \"i will\",  \"i'll've\": \"i will have\",\"i'm\": \"i am\", \"i've\": \"i have\", \"isn't\": \"is not\", \"it'd\": \"it would\",\n",
        "                           \"it'd've\": \"it would have\", \"it'll\": \"it will\", \"it'll've\": \"it will have\",\"it's\": \"it is\", \"let's\": \"let us\", \"ma'am\": \"madam\",\n",
        "                           \"mayn't\": \"may not\", \"might've\": \"might have\",\"mightn't\": \"might not\",\"mightn't've\": \"might not have\", \"must've\": \"must have\",\n",
        "                           \"mustn't\": \"must not\", \"mustn't've\": \"must not have\", \"needn't\": \"need not\", \"needn't've\": \"need not have\",\"o'clock\": \"of the clock\",\n",
        "                           \"oughtn't\": \"ought not\", \"oughtn't've\": \"ought not have\", \"shan't\": \"shall not\", \"sha'n't\": \"shall not\", \"shan't've\": \"shall not have\",\n",
        "                           \"she'd\": \"she would\", \"she'd've\": \"she would have\", \"she'll\": \"she will\", \"she'll've\": \"she will have\", \"she's\": \"she is\",\n",
        "                           \"should've\": \"should have\", \"shouldn't\": \"should not\", \"shouldn't've\": \"should not have\", \"so've\": \"so have\",\"so's\": \"so as\",\n",
        "                           \"this's\": \"this is\",\"that'd\": \"that would\", \"that'd've\": \"that would have\", \"that's\": \"that is\", \"there'd\": \"there would\",\n",
        "                           \"there'd've\": \"there would have\", \"there's\": \"there is\", \"here's\": \"here is\",\"they'd\": \"they would\", \"they'd've\": \"they would have\",\n",
        "                           \"they'll\": \"they will\", \"they'll've\": \"they will have\", \"they're\": \"they are\", \"they've\": \"they have\", \"to've\": \"to have\",\n",
        "                           \"wasn't\": \"was not\", \"we'd\": \"we would\", \"we'd've\": \"we would have\", \"we'll\": \"we will\", \"we'll've\": \"we will have\", \"we're\": \"we are\",\n",
        "                           \"we've\": \"we have\", \"weren't\": \"were not\", \"what'll\": \"what will\", \"what'll've\": \"what will have\", \"what're\": \"what are\",\n",
        "                           \"what's\": \"what is\", \"what've\": \"what have\", \"when's\": \"when is\", \"when've\": \"when have\", \"where'd\": \"where did\", \"where's\": \"where is\",\n",
        "                           \"where've\": \"where have\", \"who'll\": \"who will\", \"who'll've\": \"who will have\", \"who's\": \"who is\", \"who've\": \"who have\",\n",
        "                           \"why's\": \"why is\", \"why've\": \"why have\", \"will've\": \"will have\", \"won't\": \"will not\", \"won't've\": \"will not have\",\n",
        "                           \"would've\": \"would have\", \"wouldn't\": \"would not\", \"wouldn't've\": \"would not have\", \"y'all\": \"you all\",\n",
        "                           \"y'all'd\": \"you all would\",\"y'all'd've\": \"you all would have\",\"y'all're\": \"you all are\",\"y'all've\": \"you all have\",\n",
        "                           \"you'd\": \"you would\", \"you'd've\": \"you would have\", \"you'll\": \"you will\", \"you'll've\": \"you will have\",\n",
        "                           \"you're\": \"you are\", \"you've\": \"you have\",\"yep\":\"yes\",\"ty\":\"thank you\",\"rt\":\"retweet\"}\n",
        "\n",
        "\n",
        "def rem(x):\n",
        "    for p in [\".\",\",\",\"!\",\"?\"]:\n",
        "        x = str(x).replace(p,\" \")\n",
        "    return x\n",
        "\n",
        "\n",
        "def convert_emo(text):\n",
        "    #Emojis into word\n",
        "    for emot in UNICODE_EMO:\n",
        "        text = text.replace(emot, \" \".join(UNICODE_EMO[emot].replace(\",\",\"\").replace(\":\",\"\").split()))\n",
        "    #Emoticons into word\n",
        "    for emot in EMOTICONS:\n",
        "        text = re.sub(u'('+emot+')', \" \".join(EMOTICONS[emot].replace(\",\",\"\").split()), text)\n",
        "    return text\n",
        "\n",
        "def rem_contractions(x):\n",
        "    x = rem(x).split()\n",
        "    new_text = []\n",
        "    for word in x:\n",
        "        if word in contractions:\n",
        "            new_text.append(contractions[word])\n",
        "        else:\n",
        "            new_text.append(word)\n",
        "    return ' '.join([str(elem) for elem in new_text])\n",
        "\n",
        "def text_preprocessing(x,remove_stop_word=False):\n",
        "    cleaned = re.sub(r'http\\S+', '', x)\n",
        "    #Convert hashtags into words\n",
        "    re.sub(r'#',\"\",cleaned)\n",
        "    #Remove mentions for retweet\n",
        "    cleaned = re.sub(r'RT @([^\\s:]+):',\"\",cleaned)\n",
        "    #Remove other mentions\n",
        "    cleaned = re.sub(r'@([^\\s:]+)',\"\",cleaned)\n",
        "    cleaned = \"\".join([i for i in [s.lower() for s in cleaned]])\n",
        "    cleaned = rem_contractions(cleaned)\n",
        "    cleaned = convert_emo(cleaned)\n",
        "    cleaned = re.sub(\"[^a-zA-Z]\", ' ', cleaned) # remove punctuation, special characters and numbers\n",
        "    if remove_stop_word:\n",
        "        cleaned = \" \".join([i for i in word_tokenize(cleaned) if i not in stop_words])\n",
        "    return ' '.join(cleaned.split())"
      ],
      "execution_count": 0,
      "outputs": []
    },
    {
      "cell_type": "code",
      "metadata": {
        "scrolled": false,
        "id": "S64bhtL-J_EU",
        "colab_type": "code",
        "outputId": "20487eb7-8c22-4dc2-e77f-50aa5c73145f",
        "colab": {}
      },
      "source": [
        "print(\"ORIGINAL TEXT:\",db.text[12],\"\\n\")\n",
        "print(\"PREPROCESSED TEXT:\",text_preprocessing(db.text[12]))"
      ],
      "execution_count": 0,
      "outputs": [
        {
          "output_type": "stream",
          "text": [
            "ORIGINAL TEXT: RT @Pat_Potvin: RT to inform\n",
            "#MockingbirdMedia #GreatAwakening #WWG1WGAWORLDWIDE \n",
            "\n",
            "@Pat_Potvin @PatPatriot55 \n",
            "\n",
            "PREPROCESSED TEXT: retweet to inform mockingbirdmedia greatawakening wwg wgaworldwide\n"
          ],
          "name": "stdout"
        }
      ]
    },
    {
      "cell_type": "code",
      "metadata": {
        "id": "B9Weu__0J_EV",
        "colab_type": "code",
        "colab": {}
      },
      "source": [
        "db.rename(columns={'text':'original_text'}, inplace=True)\n",
        "db['text'] = db.original_text.apply(text_preprocessing)"
      ],
      "execution_count": 0,
      "outputs": []
    },
    {
      "cell_type": "code",
      "metadata": {
        "id": "7w75pv-_J_EX",
        "colab_type": "code",
        "outputId": "89f33ab4-56e9-4a6c-a239-b29cad3dd9e6",
        "colab": {}
      },
      "source": [
        "#Check duplicated texts\n",
        "print(\"Total number of duplicated texts:\",len(db[db.duplicated(subset=[\"text\"],keep='last')]))\n",
        "print(\"Number of unique duplicated texts:\",len(db[db.duplicated(subset=[\"text\"],keep='last')]['text'].unique()))\n",
        "print(\"Portion of duplicated text among unique texts:\",str(100*len(db[db.duplicated(subset=[\"text\"],keep='last')]['text'].unique())/len(db['text'].unique()))+\"%\")"
      ],
      "execution_count": 0,
      "outputs": [
        {
          "output_type": "stream",
          "text": [
            "Total number of duplicated texts: 35855\n",
            "Number of unique duplicated texts: 2889\n",
            "Portion of duplicated text among unique texts: 20.818620739352887%\n"
          ],
          "name": "stdout"
        }
      ]
    },
    {
      "cell_type": "code",
      "metadata": {
        "id": "STh1o_fSJ_EY",
        "colab_type": "code",
        "colab": {}
      },
      "source": [
        "db.to_csv(\"/Users/riccardocervero/Desktop/QAnonRidotto.csv\")"
      ],
      "execution_count": 0,
      "outputs": []
    },
    {
      "cell_type": "markdown",
      "metadata": {
        "id": "4M9KSi8MJ_Ea",
        "colab_type": "text"
      },
      "source": [
        "## Is Bot?"
      ]
    },
    {
      "cell_type": "code",
      "metadata": {
        "id": "3MlGLcBBLex7",
        "colab_type": "code",
        "outputId": "d8a2a259-483a-4d24-890a-fd975e01cf8f",
        "colab": {
          "base_uri": "https://localhost:8080/",
          "height": 34
        }
      },
      "source": [
        "#Read bot database extracted by twitterbot library from R\n",
        "bot = pd.read_csv(\"/content/bot.csv\")\n",
        "bot.drop(\"Unnamed: 0\",axis=1,inplace=True)\n",
        "bots = [e for e in bot[bot.prob_bot>=0.85]['screen_name']]\n",
        "print(\"Number of bots:\",len(bots))"
      ],
      "execution_count": 0,
      "outputs": [
        {
          "output_type": "stream",
          "text": [
            "Number of bots: 387\n"
          ],
          "name": "stdout"
        }
      ]
    },
    {
      "cell_type": "code",
      "metadata": {
        "id": "Cy_lubI2O2Lj",
        "colab_type": "code",
        "colab": {}
      },
      "source": [
        "isbot = []\n",
        "for u in db.User:\n",
        "  if u in bots:\n",
        "    isbot.append(\"1\")\n",
        "  else:\n",
        "    isbot.append(\"0\")\n",
        "db['IsBot'] = isbot"
      ],
      "execution_count": 0,
      "outputs": []
    },
    {
      "cell_type": "code",
      "metadata": {
        "id": "htSUlCRyPbjD",
        "colab_type": "code",
        "outputId": "c483ae5f-1913-4fe0-b196-004014216e8f",
        "colab": {
          "base_uri": "https://localhost:8080/",
          "height": 751
        }
      },
      "source": [
        "print(\"Number of tweets by bot:\",len(db[db.IsBot==\"1\"]))\n",
        "print(\"Top 20 bot:\",\"\\n\")\n",
        "display(bot.loc[0:20][['screen_name','prob_bot']])"
      ],
      "execution_count": 0,
      "outputs": [
        {
          "output_type": "stream",
          "text": [
            "Number of tweets by bot: 840\n",
            "Top 20 bot: \n",
            "\n"
          ],
          "name": "stdout"
        },
        {
          "output_type": "display_data",
          "data": {
            "text/html": [
              "<div>\n",
              "<style scoped>\n",
              "    .dataframe tbody tr th:only-of-type {\n",
              "        vertical-align: middle;\n",
              "    }\n",
              "\n",
              "    .dataframe tbody tr th {\n",
              "        vertical-align: top;\n",
              "    }\n",
              "\n",
              "    .dataframe thead th {\n",
              "        text-align: right;\n",
              "    }\n",
              "</style>\n",
              "<table border=\"1\" class=\"dataframe\">\n",
              "  <thead>\n",
              "    <tr style=\"text-align: right;\">\n",
              "      <th></th>\n",
              "      <th>screen_name</th>\n",
              "      <th>prob_bot</th>\n",
              "    </tr>\n",
              "  </thead>\n",
              "  <tbody>\n",
              "    <tr>\n",
              "      <th>0</th>\n",
              "      <td>Holmesdonna1</td>\n",
              "      <td>0.999726</td>\n",
              "    </tr>\n",
              "    <tr>\n",
              "      <th>1</th>\n",
              "      <td>Culmum1</td>\n",
              "      <td>0.998895</td>\n",
              "    </tr>\n",
              "    <tr>\n",
              "      <th>2</th>\n",
              "      <td>Nvania</td>\n",
              "      <td>0.998879</td>\n",
              "    </tr>\n",
              "    <tr>\n",
              "      <th>3</th>\n",
              "      <td>amars50</td>\n",
              "      <td>0.997957</td>\n",
              "    </tr>\n",
              "    <tr>\n",
              "      <th>4</th>\n",
              "      <td>Lonewolf2716</td>\n",
              "      <td>0.997685</td>\n",
              "    </tr>\n",
              "    <tr>\n",
              "      <th>5</th>\n",
              "      <td>angelataboo</td>\n",
              "      <td>0.997093</td>\n",
              "    </tr>\n",
              "    <tr>\n",
              "      <th>6</th>\n",
              "      <td>Smiler191</td>\n",
              "      <td>0.997069</td>\n",
              "    </tr>\n",
              "    <tr>\n",
              "      <th>7</th>\n",
              "      <td>jcpretorius</td>\n",
              "      <td>0.996966</td>\n",
              "    </tr>\n",
              "    <tr>\n",
              "      <th>8</th>\n",
              "      <td>AsilanaQAnon</td>\n",
              "      <td>0.996562</td>\n",
              "    </tr>\n",
              "    <tr>\n",
              "      <th>9</th>\n",
              "      <td>tachyonluxor</td>\n",
              "      <td>0.996129</td>\n",
              "    </tr>\n",
              "    <tr>\n",
              "      <th>10</th>\n",
              "      <td>keppler_brenda</td>\n",
              "      <td>0.995840</td>\n",
              "    </tr>\n",
              "    <tr>\n",
              "      <th>11</th>\n",
              "      <td>singingval61</td>\n",
              "      <td>0.995725</td>\n",
              "    </tr>\n",
              "    <tr>\n",
              "      <th>12</th>\n",
              "      <td>grace9556</td>\n",
              "      <td>0.995273</td>\n",
              "    </tr>\n",
              "    <tr>\n",
              "      <th>13</th>\n",
              "      <td>tucsonfirebird</td>\n",
              "      <td>0.994679</td>\n",
              "    </tr>\n",
              "    <tr>\n",
              "      <th>14</th>\n",
              "      <td>MexicanoQanon</td>\n",
              "      <td>0.994560</td>\n",
              "    </tr>\n",
              "    <tr>\n",
              "      <th>15</th>\n",
              "      <td>KatWoma67811984</td>\n",
              "      <td>0.993839</td>\n",
              "    </tr>\n",
              "    <tr>\n",
              "      <th>16</th>\n",
              "      <td>TommyJonson7</td>\n",
              "      <td>0.993643</td>\n",
              "    </tr>\n",
              "    <tr>\n",
              "      <th>17</th>\n",
              "      <td>IvyBlood2</td>\n",
              "      <td>0.993293</td>\n",
              "    </tr>\n",
              "    <tr>\n",
              "      <th>18</th>\n",
              "      <td>haigh_ken</td>\n",
              "      <td>0.992945</td>\n",
              "    </tr>\n",
              "    <tr>\n",
              "      <th>19</th>\n",
              "      <td>Victoriel44</td>\n",
              "      <td>0.992854</td>\n",
              "    </tr>\n",
              "    <tr>\n",
              "      <th>20</th>\n",
              "      <td>Superdad20001</td>\n",
              "      <td>0.992021</td>\n",
              "    </tr>\n",
              "  </tbody>\n",
              "</table>\n",
              "</div>"
            ],
            "text/plain": [
              "        screen_name  prob_bot\n",
              "0      Holmesdonna1  0.999726\n",
              "1           Culmum1  0.998895\n",
              "2            Nvania  0.998879\n",
              "3           amars50  0.997957\n",
              "4      Lonewolf2716  0.997685\n",
              "5       angelataboo  0.997093\n",
              "6         Smiler191  0.997069\n",
              "7       jcpretorius  0.996966\n",
              "8      AsilanaQAnon  0.996562\n",
              "9      tachyonluxor  0.996129\n",
              "10   keppler_brenda  0.995840\n",
              "11     singingval61  0.995725\n",
              "12        grace9556  0.995273\n",
              "13   tucsonfirebird  0.994679\n",
              "14    MexicanoQanon  0.994560\n",
              "15  KatWoma67811984  0.993839\n",
              "16     TommyJonson7  0.993643\n",
              "17        IvyBlood2  0.993293\n",
              "18        haigh_ken  0.992945\n",
              "19      Victoriel44  0.992854\n",
              "20    Superdad20001  0.992021"
            ]
          },
          "metadata": {
            "tags": []
          }
        }
      ]
    },
    {
      "cell_type": "markdown",
      "metadata": {
        "id": "0f95YR0XJ_Ee",
        "colab_type": "text"
      },
      "source": [
        "______________________________________________________________________________________________________________________"
      ]
    },
    {
      "cell_type": "markdown",
      "metadata": {
        "id": "d7Va0F52J_Ee",
        "colab_type": "text"
      },
      "source": [
        "## Interaction graph\n",
        "\n",
        "[_](https://github.com/ugis22/analysing_twitter/blob/master/Jupyter%20Notebook%20files/Interaction%20Network.ipynb)"
      ]
    },
    {
      "cell_type": "code",
      "metadata": {
        "id": "4U5rTvTR-W9c",
        "colab_type": "code",
        "colab": {}
      },
      "source": [
        "#Function to extract interactions\n",
        "def get_interactions(row):\n",
        "    user = row[\"User\"] \n",
        "    interactions = set() #Interactions are set of tuples\n",
        "    #1)replies\n",
        "    if pd.notna(row[\"replied_user\"]):\n",
        "      interactions.add((row[\"replied_user\"],\"r\"))\n",
        "    #2)retweets\n",
        "    if pd.notna(row[\"retweeted_user\"]):\n",
        "      interactions.add((row[\"retweeted_user\"],\"g\"))\n",
        "    #3)quotes\n",
        "    if pd.notna(row[\"quoted_user\"]):\n",
        "      interactions.add((row[\"quoted_user\"],\"b\"))\n",
        "    #3)mentions\n",
        "    if pd.notna(row[\"mentions\"]):\n",
        "      for i in ast.literal_eval(row['mentions']):\n",
        "        interactions.add((i,\"orange\"))\n",
        "    # Discard auto-interactions\n",
        "    interactions.discard((row[\"User\"]))\n",
        "    # Discard all not existing values\n",
        "    interactions.discard((None, None))\n",
        "    # Return user and interactions\n",
        "    return user, interactions\n",
        "\n",
        "#Function to draw interactions\n",
        "def draw_interactions(db, plot = True, labels = False, prog=\"neato\"):\n",
        "  c = []\n",
        "  c1 = []\n",
        "  botnode = []\n",
        "  #Initialize graph\n",
        "  graph = nx.Graph()\n",
        "  #Build graph\n",
        "  for index, tweet in db.iterrows():\n",
        "    user, interactions = get_interactions(tweet)\n",
        "    user_name = user\n",
        "    tweet_id = tweet[\"id\"]\n",
        "    for interaction in interactions:\n",
        "        int_name = interaction[0]\n",
        "        c.append(interaction[1])\n",
        "        graph.add_edge(user_name, int_name)\n",
        "        graph.add_node(user_name)\n",
        "        if user_name in bots:\n",
        "          botnode.append(user_name)\n",
        "        graph.add_node(int_name)\n",
        "  print(\"Original graph has\",graph.number_of_nodes(),\"nodes and\",graph.number_of_edges(),\"edges.\")\n",
        "  #Find the biggest connected component\n",
        "  largest_subgraph = max((graph.subgraph(c) for c in nx.connected_components(graph)), key=len)\n",
        "  botnode = set([n for n in botnode if n in largest_subgraph])\n",
        "  notbot = set([n for n in largest_subgraph if n not in botnode])\n",
        "  #Get degree\n",
        "  d = dict(graph.degree)\n",
        "  dbot = {k: v for k, v in d.items() if k in botnode}\n",
        "  dnotbot = {k: v for k, v in d.items() if k in notbot}\n",
        "  if plot:\n",
        "    #pos = nx.spring_layout(largest_subgraph,k=10) #Default layout\n",
        "    pos = nx.nx_pydot.graphviz_layout(largest_subgraph,prog=prog)\n",
        "    plt.figure(figsize = (35,35))\n",
        "    nx.draw(largest_subgraph,pos=pos,alpha=0)\n",
        "    nx.draw_networkx_nodes(largest_subgraph,pos=pos,nodelist=botnode,node_size=[np.log(v*1000) for v in dbot.values()],node_shape=\"s\",node_color=\"red\")\n",
        "    nx.draw_networkx_nodes(largest_subgraph,pos=pos,nodelist=notbot,node_size=[np.log(v*1000) for v in dnotbot.values()])\n",
        "    nx.draw_networkx_edges(largest_subgraph,pos=pos,width=0.3,edge_color = c)\n",
        "    plt.savefig('/content/graph.png')\n",
        "    plt.show()\n",
        "  return(largest_subgraph)"
      ],
      "execution_count": 0,
      "outputs": []
    },
    {
      "cell_type": "code",
      "metadata": {
        "id": "l4f-t2SNJvGm",
        "colab_type": "code",
        "outputId": "d131e357-1e8f-41e8-a278-b70935fab7f3",
        "colab": {
          "base_uri": "https://localhost:8080/",
          "height": 34
        }
      },
      "source": [
        "#Possible prog:'neato','dot','twopi','fdp','sfdp','circo'\n",
        "g = draw_interactions(db,prog=\"sfdp\")"
      ],
      "execution_count": 0,
      "outputs": [
        {
          "output_type": "stream",
          "text": [
            "Original graph has 30914 nodes and 65001 edges.\n"
          ],
          "name": "stdout"
        }
      ]
    },
    {
      "cell_type": "code",
      "metadata": {
        "id": "YvKk4Jz-_edz",
        "colab_type": "code",
        "colab": {}
      },
      "source": [
        "#Degree centrality\n",
        "  graph_centrality = nx.degree_centrality(largest_subgraph)\n",
        "  max_de = max(graph_centrality.items(), key=itemgetter(1))\n",
        "  #Closeness centrality\n",
        "  graph_closeness = nx.closeness_centrality(largest_subgraph)\n",
        "  max_clo = max(graph_closeness.items(), key=itemgetter(1))\n",
        "  #Normalized betweenness centrality \n",
        "  graph_betweenness = nx.betweenness_centrality(largest_subgraph, normalized=True, endpoints=False)\n",
        "  max_bet = max(graph_betweenness.items(), key=itemgetter(1))\n",
        "  #Highlight central nodes\n",
        "  central_nodes = [max_de[0], max_clo[0], max_bet[0]]"
      ],
      "execution_count": 0,
      "outputs": []
    }
  ]
}